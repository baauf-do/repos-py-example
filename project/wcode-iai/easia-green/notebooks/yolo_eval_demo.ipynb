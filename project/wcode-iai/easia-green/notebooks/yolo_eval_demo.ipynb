{
 "cells": [
  {
   "cell_type": "code",
   "execution_count": null,
   "id": "50578ea3",
   "metadata": {},
   "outputs": [],
   "source": [
    "# ✅ Khởi tạo\n",
    "from ultralytics import YOLO\n",
    "from pathlib import Path\n",
    "import cv2\n",
    "import matplotlib.pyplot as plt"
   ]
  },
  {
   "cell_type": "code",
   "execution_count": null,
   "id": "597c264f",
   "metadata": {},
   "outputs": [],
   "source": [
    "# ✅ Đường dẫn đến model YOLOv8 đã train\n",
    "model_path = Path(\"../train/runs/passport_20250423_1520/weights/best.pt\")\n",
    "model = YOLO(str(model_path))"
   ]
  },
  {
   "cell_type": "code",
   "execution_count": null,
   "id": "66d48765",
   "metadata": {},
   "outputs": [],
   "source": [
    "# ✅ Hàm hiển thị ảnh với kết quả\n",
    "def show_prediction(image_path):\n",
    "    results = model(image_path)\n",
    "    annotated = results[0].plot()\n",
    "\n",
    "    # Hiển thị ảnh\n",
    "    plt.figure(figsize=(12, 8))\n",
    "    plt.imshow(annotated[..., ::-1])\n",
    "    plt.axis('off')\n",
    "    plt.title(\"📍 Kết quả nhận diện từ YOLOv8\")\n",
    "    plt.show()"
   ]
  },
  {
   "cell_type": "code",
   "execution_count": null,
   "id": "a34a5b44",
   "metadata": {},
   "outputs": [],
   "source": [
    "# ✅ Dùng thử với một ảnh trong tập val\n",
    "img_path = \"../train/datasets/images/val/sample_passport.jpg\"\n",
    "show_prediction(img_path)"
   ]
  }
 ],
 "metadata": {
  "kernelspec": {
   "display_name": ".venv-green",
   "language": "python",
   "name": "python3"
  },
  "language_info": {
   "codemirror_mode": {
    "name": "ipython",
    "version": 3
   },
   "file_extension": ".py",
   "mimetype": "text/x-python",
   "name": "python",
   "nbconvert_exporter": "python",
   "pygments_lexer": "ipython3",
   "version": "3.10.10"
  }
 },
 "nbformat": 4,
 "nbformat_minor": 5
}
