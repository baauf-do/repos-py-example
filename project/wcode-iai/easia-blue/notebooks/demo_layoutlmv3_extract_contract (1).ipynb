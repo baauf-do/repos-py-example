{
  "cells": [
    {
      "cell_type": "markdown",
      "metadata": {},
      "source": [
        "# \ud83d\udcc4 LayoutLMv3 + PaddleOCR Contract Extraction Demo\n",
        "\n",
        "Tr\u00edch xu\u1ea5t th\u00f4ng tin t\u1eeb h\u1ee3p \u0111\u1ed3ng PDF s\u1eed d\u1ee5ng PaddleOCR v\u00e0 PyMuPDF (fitz).\n",
        "\n",
        "**Kh\u00f4ng c\u1ea7n poppler-utils, pytesseract n\u1eefa.**\n",
        "\n",
        "---"
      ]
    },
    {
      "cell_type": "code",
      "execution_count": null,
      "metadata": {},
      "outputs": [],
      "source": [
        "# \u2705 C\u00e0i \u0111\u1eb7t th\u01b0 vi\u1ec7n c\u1ea7n thi\u1ebft\n",
        "!pip install paddleocr pymupdf --upgrade --quiet\n",
        "!pip install opencv-python --quiet"
      ]
    },
    {
      "cell_type": "code",
      "execution_count": null,
      "metadata": {},
      "outputs": [],
      "source": [
        "import fitz  # PyMuPDF\n",
        "from paddleocr import PaddleOCR\n",
        "from collections import defaultdict\n",
        "import os\n",
        "from PIL import Image"
      ]
    },
    {
      "cell_type": "code",
      "execution_count": null,
      "metadata": {},
      "outputs": [],
      "source": [
        "# \u2705 Chuy\u1ec3n PDF th\u00e0nh \u1ea3nh\n",
        "def pdf_to_images(pdf_path, output_dir=\"images\"):\n",
        "    os.makedirs(output_dir, exist_ok=True)\n",
        "    doc = fitz.open(pdf_path)\n",
        "    image_paths = []\n",
        "    for i, page in enumerate(doc):\n",
        "        pix = page.get_pixmap(dpi=300)\n",
        "        img_path = os.path.join(output_dir, f\"page_{i}.png\")\n",
        "        pix.save(img_path)\n",
        "        image_paths.append(img_path)\n",
        "    return image_paths\n",
        "\n",
        "images = pdf_to_images(\"../store/input/your_contract_file.pdf\")\n",
        "Image.open(images[0])"
      ]
    },
    {
      "cell_type": "code",
      "execution_count": null,
      "metadata": {},
      "outputs": [],
      "source": [
        "# \u2705 OCR + group d\u00f2ng theo Y\n",
        "ocr = PaddleOCR(use_angle_cls=True, lang='vi')\n",
        "\n",
        "def ocr_image(image_path):\n",
        "    result = ocr.ocr(image_path)\n",
        "    lines = []\n",
        "    for line in result[0]:\n",
        "        text = line[1][0]\n",
        "        y_center = int((line[0][0][1] + line[0][2][1]) / 2)\n",
        "        lines.append((y_center, text))\n",
        "    return lines\n",
        "\n",
        "def group_lines_by_row(lines, y_tolerance=10):\n",
        "    rows = defaultdict(list)\n",
        "    for y, text in lines:\n",
        "        found = False\n",
        "        for row_y in rows:\n",
        "            if abs(row_y - y) <= y_tolerance:\n",
        "                rows[row_y].append(text)\n",
        "                found = True\n",
        "                break\n",
        "        if not found:\n",
        "            rows[y].append(text)\n",
        "    return [rows[y] for y in sorted(rows)]\n",
        "\n",
        "lines = ocr_image(images[0])\n",
        "rows = group_lines_by_row(lines)\n",
        "for r in rows:\n",
        "    print(r)"
      ]
    }
  ],
  "metadata": {
    "kernelspec": {
      "display_name": "Python 3",
      "language": "python",
      "name": "python3"
    },
    "language_info": {
      "name": "python",
      "version": "3.x"
    }
  },
  "nbformat": 4,
  "nbformat_minor": 2
}