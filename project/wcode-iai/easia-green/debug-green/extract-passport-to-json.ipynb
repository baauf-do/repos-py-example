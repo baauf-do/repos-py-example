{
 "cells": [
  {
   "cell_type": "markdown",
   "id": "3acf604b",
   "metadata": {},
   "source": [
    "# Passport image to json"
   ]
  },
  {
   "cell_type": "code",
   "execution_count": 1,
   "id": "9ab4cbfa",
   "metadata": {},
   "outputs": [
    {
     "name": "stdout",
     "output_type": "stream",
     "text": [
      "Requirement already satisfied: passporteye in c:\\repos\\vs-code\\baauf-do\\repos-py-example\\project\\wcode-iai\\easia-green\\.venv-green\\lib\\site-packages (2.2.2)\n",
      "Requirement already satisfied: paddleocr in c:\\repos\\vs-code\\baauf-do\\repos-py-example\\project\\wcode-iai\\easia-green\\.venv-green\\lib\\site-packages (2.10.0)\n",
      "Requirement already satisfied: opencv-python in c:\\repos\\vs-code\\baauf-do\\repos-py-example\\project\\wcode-iai\\easia-green\\.venv-green\\lib\\site-packages (4.11.0.86)\n",
      "Requirement already satisfied: numpy in c:\\repos\\vs-code\\baauf-do\\repos-py-example\\project\\wcode-iai\\easia-green\\.venv-green\\lib\\site-packages (from passporteye) (2.2.4)\n",
      "Requirement already satisfied: scipy in c:\\repos\\vs-code\\baauf-do\\repos-py-example\\project\\wcode-iai\\easia-green\\.venv-green\\lib\\site-packages (from passporteye) (1.15.2)\n",
      "Requirement already satisfied: scikit-image>=0.19.0 in c:\\repos\\vs-code\\baauf-do\\repos-py-example\\project\\wcode-iai\\easia-green\\.venv-green\\lib\\site-packages (from passporteye) (0.25.2)\n",
      "Requirement already satisfied: imageio in c:\\repos\\vs-code\\baauf-do\\repos-py-example\\project\\wcode-iai\\easia-green\\.venv-green\\lib\\site-packages (from passporteye) (2.37.0)\n",
      "Requirement already satisfied: scikit-learn in c:\\repos\\vs-code\\baauf-do\\repos-py-example\\project\\wcode-iai\\easia-green\\.venv-green\\lib\\site-packages (from passporteye) (1.6.1)\n",
      "Requirement already satisfied: matplotlib in c:\\repos\\vs-code\\baauf-do\\repos-py-example\\project\\wcode-iai\\easia-green\\.venv-green\\lib\\site-packages (from passporteye) (3.10.1)\n",
      "Requirement already satisfied: pytesseract>=0.2.0 in c:\\repos\\vs-code\\baauf-do\\repos-py-example\\project\\wcode-iai\\easia-green\\.venv-green\\lib\\site-packages (from passporteye) (0.3.13)\n",
      "Requirement already satisfied: pdfminer>=20191010 in c:\\repos\\vs-code\\baauf-do\\repos-py-example\\project\\wcode-iai\\easia-green\\.venv-green\\lib\\site-packages (from passporteye) (20191125)\n",
      "Requirement already satisfied: shapely in c:\\repos\\vs-code\\baauf-do\\repos-py-example\\project\\wcode-iai\\easia-green\\.venv-green\\lib\\site-packages (from paddleocr) (2.1.0)\n",
      "Requirement already satisfied: pyclipper in c:\\repos\\vs-code\\baauf-do\\repos-py-example\\project\\wcode-iai\\easia-green\\.venv-green\\lib\\site-packages (from paddleocr) (1.3.0.post6)\n",
      "Requirement already satisfied: lmdb in c:\\repos\\vs-code\\baauf-do\\repos-py-example\\project\\wcode-iai\\easia-green\\.venv-green\\lib\\site-packages (from paddleocr) (1.6.2)\n",
      "Requirement already satisfied: tqdm in c:\\repos\\vs-code\\baauf-do\\repos-py-example\\project\\wcode-iai\\easia-green\\.venv-green\\lib\\site-packages (from paddleocr) (4.67.1)\n",
      "Requirement already satisfied: rapidfuzz in c:\\repos\\vs-code\\baauf-do\\repos-py-example\\project\\wcode-iai\\easia-green\\.venv-green\\lib\\site-packages (from paddleocr) (3.13.0)\n",
      "Requirement already satisfied: opencv-contrib-python in c:\\repos\\vs-code\\baauf-do\\repos-py-example\\project\\wcode-iai\\easia-green\\.venv-green\\lib\\site-packages (from paddleocr) (4.11.0.86)\n",
      "Requirement already satisfied: cython in c:\\repos\\vs-code\\baauf-do\\repos-py-example\\project\\wcode-iai\\easia-green\\.venv-green\\lib\\site-packages (from paddleocr) (3.0.12)\n",
      "Requirement already satisfied: Pillow in c:\\repos\\vs-code\\baauf-do\\repos-py-example\\project\\wcode-iai\\easia-green\\.venv-green\\lib\\site-packages (from paddleocr) (11.2.1)\n",
      "Requirement already satisfied: pyyaml in c:\\repos\\vs-code\\baauf-do\\repos-py-example\\project\\wcode-iai\\easia-green\\.venv-green\\lib\\site-packages (from paddleocr) (6.0.2)\n",
      "Requirement already satisfied: python-docx in c:\\repos\\vs-code\\baauf-do\\repos-py-example\\project\\wcode-iai\\easia-green\\.venv-green\\lib\\site-packages (from paddleocr) (1.1.2)\n",
      "Requirement already satisfied: beautifulsoup4 in c:\\repos\\vs-code\\baauf-do\\repos-py-example\\project\\wcode-iai\\easia-green\\.venv-green\\lib\\site-packages (from paddleocr) (4.13.4)\n",
      "Requirement already satisfied: fonttools>=4.24.0 in c:\\repos\\vs-code\\baauf-do\\repos-py-example\\project\\wcode-iai\\easia-green\\.venv-green\\lib\\site-packages (from paddleocr) (4.57.0)\n",
      "Requirement already satisfied: fire>=0.3.0 in c:\\repos\\vs-code\\baauf-do\\repos-py-example\\project\\wcode-iai\\easia-green\\.venv-green\\lib\\site-packages (from paddleocr) (0.7.0)\n",
      "Requirement already satisfied: requests in c:\\repos\\vs-code\\baauf-do\\repos-py-example\\project\\wcode-iai\\easia-green\\.venv-green\\lib\\site-packages (from paddleocr) (2.32.3)\n",
      "Requirement already satisfied: albumentations in c:\\repos\\vs-code\\baauf-do\\repos-py-example\\project\\wcode-iai\\easia-green\\.venv-green\\lib\\site-packages (from paddleocr) (2.0.5)\n",
      "Requirement already satisfied: albucore in c:\\repos\\vs-code\\baauf-do\\repos-py-example\\project\\wcode-iai\\easia-green\\.venv-green\\lib\\site-packages (from paddleocr) (0.0.23)\n",
      "Requirement already satisfied: termcolor in c:\\repos\\vs-code\\baauf-do\\repos-py-example\\project\\wcode-iai\\easia-green\\.venv-green\\lib\\site-packages (from fire>=0.3.0->paddleocr) (3.0.1)\n",
      "Requirement already satisfied: pycryptodome in c:\\repos\\vs-code\\baauf-do\\repos-py-example\\project\\wcode-iai\\easia-green\\.venv-green\\lib\\site-packages (from pdfminer>=20191010->passporteye) (3.22.0)\n",
      "Requirement already satisfied: packaging>=21.3 in c:\\repos\\vs-code\\baauf-do\\repos-py-example\\project\\wcode-iai\\easia-green\\.venv-green\\lib\\site-packages (from pytesseract>=0.2.0->passporteye) (24.2)\n",
      "Requirement already satisfied: networkx>=3.0 in c:\\repos\\vs-code\\baauf-do\\repos-py-example\\project\\wcode-iai\\easia-green\\.venv-green\\lib\\site-packages (from scikit-image>=0.19.0->passporteye) (3.4.2)\n",
      "Requirement already satisfied: tifffile>=2022.8.12 in c:\\repos\\vs-code\\baauf-do\\repos-py-example\\project\\wcode-iai\\easia-green\\.venv-green\\lib\\site-packages (from scikit-image>=0.19.0->passporteye) (2025.3.30)\n",
      "Requirement already satisfied: lazy-loader>=0.4 in c:\\repos\\vs-code\\baauf-do\\repos-py-example\\project\\wcode-iai\\easia-green\\.venv-green\\lib\\site-packages (from scikit-image>=0.19.0->passporteye) (0.4)\n",
      "Requirement already satisfied: stringzilla>=3.10.4 in c:\\repos\\vs-code\\baauf-do\\repos-py-example\\project\\wcode-iai\\easia-green\\.venv-green\\lib\\site-packages (from albucore->paddleocr) (3.12.4)\n",
      "Requirement already satisfied: simsimd>=5.9.2 in c:\\repos\\vs-code\\baauf-do\\repos-py-example\\project\\wcode-iai\\easia-green\\.venv-green\\lib\\site-packages (from albucore->paddleocr) (6.2.1)\n",
      "Requirement already satisfied: opencv-python-headless>=4.9.0.80 in c:\\repos\\vs-code\\baauf-do\\repos-py-example\\project\\wcode-iai\\easia-green\\.venv-green\\lib\\site-packages (from albucore->paddleocr) (4.11.0.86)\n",
      "Requirement already satisfied: pydantic>=2.9.2 in c:\\repos\\vs-code\\baauf-do\\repos-py-example\\project\\wcode-iai\\easia-green\\.venv-green\\lib\\site-packages (from albumentations->paddleocr) (2.11.3)\n",
      "Requirement already satisfied: soupsieve>1.2 in c:\\repos\\vs-code\\baauf-do\\repos-py-example\\project\\wcode-iai\\easia-green\\.venv-green\\lib\\site-packages (from beautifulsoup4->paddleocr) (2.6)\n",
      "Requirement already satisfied: typing-extensions>=4.0.0 in c:\\repos\\vs-code\\baauf-do\\repos-py-example\\project\\wcode-iai\\easia-green\\.venv-green\\lib\\site-packages (from beautifulsoup4->paddleocr) (4.13.2)\n",
      "Requirement already satisfied: contourpy>=1.0.1 in c:\\repos\\vs-code\\baauf-do\\repos-py-example\\project\\wcode-iai\\easia-green\\.venv-green\\lib\\site-packages (from matplotlib->passporteye) (1.3.2)\n",
      "Requirement already satisfied: cycler>=0.10 in c:\\repos\\vs-code\\baauf-do\\repos-py-example\\project\\wcode-iai\\easia-green\\.venv-green\\lib\\site-packages (from matplotlib->passporteye) (0.12.1)\n",
      "Requirement already satisfied: kiwisolver>=1.3.1 in c:\\repos\\vs-code\\baauf-do\\repos-py-example\\project\\wcode-iai\\easia-green\\.venv-green\\lib\\site-packages (from matplotlib->passporteye) (1.4.8)\n",
      "Requirement already satisfied: pyparsing>=2.3.1 in c:\\repos\\vs-code\\baauf-do\\repos-py-example\\project\\wcode-iai\\easia-green\\.venv-green\\lib\\site-packages (from matplotlib->passporteye) (3.2.3)\n",
      "Requirement already satisfied: python-dateutil>=2.7 in c:\\repos\\vs-code\\baauf-do\\repos-py-example\\project\\wcode-iai\\easia-green\\.venv-green\\lib\\site-packages (from matplotlib->passporteye) (2.9.0.post0)\n",
      "Requirement already satisfied: lxml>=3.1.0 in c:\\repos\\vs-code\\baauf-do\\repos-py-example\\project\\wcode-iai\\easia-green\\.venv-green\\lib\\site-packages (from python-docx->paddleocr) (5.3.2)\n",
      "Requirement already satisfied: charset-normalizer<4,>=2 in c:\\repos\\vs-code\\baauf-do\\repos-py-example\\project\\wcode-iai\\easia-green\\.venv-green\\lib\\site-packages (from requests->paddleocr) (3.4.1)\n",
      "Requirement already satisfied: idna<4,>=2.5 in c:\\repos\\vs-code\\baauf-do\\repos-py-example\\project\\wcode-iai\\easia-green\\.venv-green\\lib\\site-packages (from requests->paddleocr) (3.10)\n",
      "Requirement already satisfied: urllib3<3,>=1.21.1 in c:\\repos\\vs-code\\baauf-do\\repos-py-example\\project\\wcode-iai\\easia-green\\.venv-green\\lib\\site-packages (from requests->paddleocr) (2.4.0)\n",
      "Requirement already satisfied: certifi>=2017.4.17 in c:\\repos\\vs-code\\baauf-do\\repos-py-example\\project\\wcode-iai\\easia-green\\.venv-green\\lib\\site-packages (from requests->paddleocr) (2025.1.31)\n",
      "Requirement already satisfied: joblib>=1.2.0 in c:\\repos\\vs-code\\baauf-do\\repos-py-example\\project\\wcode-iai\\easia-green\\.venv-green\\lib\\site-packages (from scikit-learn->passporteye) (1.4.2)\n",
      "Requirement already satisfied: threadpoolctl>=3.1.0 in c:\\repos\\vs-code\\baauf-do\\repos-py-example\\project\\wcode-iai\\easia-green\\.venv-green\\lib\\site-packages (from scikit-learn->passporteye) (3.6.0)\n",
      "Requirement already satisfied: colorama in c:\\repos\\vs-code\\baauf-do\\repos-py-example\\project\\wcode-iai\\easia-green\\.venv-green\\lib\\site-packages (from tqdm->paddleocr) (0.4.6)\n",
      "Requirement already satisfied: annotated-types>=0.6.0 in c:\\repos\\vs-code\\baauf-do\\repos-py-example\\project\\wcode-iai\\easia-green\\.venv-green\\lib\\site-packages (from pydantic>=2.9.2->albumentations->paddleocr) (0.7.0)\n",
      "Requirement already satisfied: pydantic-core==2.33.1 in c:\\repos\\vs-code\\baauf-do\\repos-py-example\\project\\wcode-iai\\easia-green\\.venv-green\\lib\\site-packages (from pydantic>=2.9.2->albumentations->paddleocr) (2.33.1)\n",
      "Requirement already satisfied: typing-inspection>=0.4.0 in c:\\repos\\vs-code\\baauf-do\\repos-py-example\\project\\wcode-iai\\easia-green\\.venv-green\\lib\\site-packages (from pydantic>=2.9.2->albumentations->paddleocr) (0.4.0)\n",
      "Requirement already satisfied: six>=1.5 in c:\\repos\\vs-code\\baauf-do\\repos-py-example\\project\\wcode-iai\\easia-green\\.venv-green\\lib\\site-packages (from python-dateutil>=2.7->matplotlib->passporteye) (1.17.0)\n"
     ]
    }
   ],
   "source": [
    "# Cài đặt các thư viện cần thiết nếu bạn chưa cài đặt\n",
    "!pip install passporteye paddleocr opencv-python"
   ]
  },
  {
   "cell_type": "code",
   "execution_count": 2,
   "id": "c2abd349",
   "metadata": {},
   "outputs": [],
   "source": [
    "# Import các thư viện\n",
    "import cv2\n",
    "from paddleocr import PaddleOCR\n",
    "from passporteye import read_mrz\n",
    "import json\n",
    "import matplotlib.pyplot as plt\n",
    "import os"
   ]
  },
  {
   "cell_type": "code",
   "execution_count": 3,
   "id": "8a33462e",
   "metadata": {},
   "outputs": [],
   "source": [
    "# 1. Sử dụng PassportEye để trích xuất MRZ (Machine Readable Zone)\n",
    "def extract_mrz_info(image_path):\n",
    "    \"\"\"\n",
    "    Hàm này sử dụng PassportEye để nhận diện MRZ từ ảnh hộ chiếu và trả về thông tin dạng dictionary.\n",
    "    \"\"\"\n",
    "    mrz = read_mrz(image_path)\n",
    "    if mrz is not None:\n",
    "        return mrz.to_dict()\n",
    "    else:\n",
    "        return {\"error\": \"MRZ not found\"}"
   ]
  },
  {
   "cell_type": "code",
   "execution_count": 4,
   "id": "9ab4bcfa",
   "metadata": {},
   "outputs": [],
   "source": [
    "# 2. Sử dụng OpenCV để xử lý ảnh\n",
    "def preprocess_image(image_path):\n",
    "    \"\"\"\n",
    "    Hàm này dùng OpenCV để chuyển ảnh sang ảnh xám và áp dụng thresholding để làm rõ các ký tự.\n",
    "    \"\"\"\n",
    "    image = cv2.imread(image_path)\n",
    "    gray_image = cv2.cvtColor(image, cv2.COLOR_BGR2GRAY)  # Chuyển sang ảnh xám\n",
    "    _, thresh_image = cv2.threshold(gray_image, 150, 255, cv2.THRESH_BINARY)  # Áp dụng thresholding\n",
    "    return thresh_image"
   ]
  },
  {
   "cell_type": "code",
   "execution_count": 5,
   "id": "f8fde852",
   "metadata": {},
   "outputs": [],
   "source": [
    "# 3. Sử dụng PaddleOCR để nhận diện văn bản từ ảnh\n",
    "def extract_text_from_image(image):\n",
    "    \"\"\"\n",
    "    Hàm này sử dụng PaddleOCR để nhận diện văn bản từ ảnh.\n",
    "    \"\"\"\n",
    "    ocr = PaddleOCR(use_angle_cls=True, lang='en')  # Sử dụng ngôn ngữ tiếng Anh\n",
    "    result = ocr.ocr(image, cls=True)  # Nhận diện văn bản\n",
    "    return result"
   ]
  },
  {
   "cell_type": "code",
   "execution_count": 6,
   "id": "6037cd69",
   "metadata": {},
   "outputs": [],
   "source": [
    "# 4. Kết hợp mọi thứ lại để trích xuất dữ liệu từ ảnh passport\n",
    "def extract_info_from_passport(image_path):\n",
    "    \"\"\"\n",
    "    Hàm kết hợp các bước trên để trích xuất thông tin từ ảnh passport.\n",
    "    Trả về kết quả MRZ và văn bản OCR dưới dạng JSON.\n",
    "    \"\"\"\n",
    "    # Trích xuất MRZ\n",
    "    mrz_info = extract_mrz_info(image_path)\n",
    "    \n",
    "    # Xử lý ảnh với OpenCV\n",
    "    processed_image = preprocess_image(image_path)\n",
    "    \n",
    "    # Trích xuất văn bản với PaddleOCR\n",
    "    ocr_result = extract_text_from_image(processed_image)\n",
    "    \n",
    "    # Tạo kết quả trả về dưới dạng JSON\n",
    "    structured_data = {\n",
    "        \"mrz_info\": mrz_info,\n",
    "        \"ocr_result\": ocr_result\n",
    "    }\n",
    "    \n",
    "    return json.dumps(structured_data, ensure_ascii=False, indent=4)"
   ]
  },
  {
   "cell_type": "code",
   "execution_count": 19,
   "id": "83fa56c7",
   "metadata": {},
   "outputs": [
    {
     "ename": "TesseractNotFoundError",
     "evalue": "tesseract is not installed or it's not in your PATH. See README file for more information.",
     "output_type": "error",
     "traceback": [
      "\u001b[1;31m---------------------------------------------------------------------------\u001b[0m",
      "\u001b[1;31mFileNotFoundError\u001b[0m                         Traceback (most recent call last)",
      "File \u001b[1;32mc:\\repos\\vs-code\\baauf-do\\repos-py-example\\project\\wcode-iai\\easia-green\\.venv-green\\lib\\site-packages\\pytesseract\\pytesseract.py:275\u001b[0m, in \u001b[0;36mrun_tesseract\u001b[1;34m(input_filename, output_filename_base, extension, lang, config, nice, timeout)\u001b[0m\n\u001b[0;32m    274\u001b[0m \u001b[38;5;28;01mtry\u001b[39;00m:\n\u001b[1;32m--> 275\u001b[0m     proc \u001b[38;5;241m=\u001b[39m subprocess\u001b[38;5;241m.\u001b[39mPopen(cmd_args, \u001b[38;5;241m*\u001b[39m\u001b[38;5;241m*\u001b[39msubprocess_args())\n\u001b[0;32m    276\u001b[0m \u001b[38;5;28;01mexcept\u001b[39;00m \u001b[38;5;167;01mOSError\u001b[39;00m \u001b[38;5;28;01mas\u001b[39;00m e:\n",
      "File \u001b[1;32m~\\AppData\\Local\\Programs\\Python\\Python310\\lib\\subprocess.py:971\u001b[0m, in \u001b[0;36mPopen.__init__\u001b[1;34m(self, args, bufsize, executable, stdin, stdout, stderr, preexec_fn, close_fds, shell, cwd, env, universal_newlines, startupinfo, creationflags, restore_signals, start_new_session, pass_fds, user, group, extra_groups, encoding, errors, text, umask, pipesize)\u001b[0m\n\u001b[0;32m    968\u001b[0m             \u001b[38;5;28mself\u001b[39m\u001b[38;5;241m.\u001b[39mstderr \u001b[38;5;241m=\u001b[39m io\u001b[38;5;241m.\u001b[39mTextIOWrapper(\u001b[38;5;28mself\u001b[39m\u001b[38;5;241m.\u001b[39mstderr,\n\u001b[0;32m    969\u001b[0m                     encoding\u001b[38;5;241m=\u001b[39mencoding, errors\u001b[38;5;241m=\u001b[39merrors)\n\u001b[1;32m--> 971\u001b[0m     \u001b[38;5;28;43mself\u001b[39;49m\u001b[38;5;241;43m.\u001b[39;49m\u001b[43m_execute_child\u001b[49m\u001b[43m(\u001b[49m\u001b[43margs\u001b[49m\u001b[43m,\u001b[49m\u001b[43m \u001b[49m\u001b[43mexecutable\u001b[49m\u001b[43m,\u001b[49m\u001b[43m \u001b[49m\u001b[43mpreexec_fn\u001b[49m\u001b[43m,\u001b[49m\u001b[43m \u001b[49m\u001b[43mclose_fds\u001b[49m\u001b[43m,\u001b[49m\n\u001b[0;32m    972\u001b[0m \u001b[43m                        \u001b[49m\u001b[43mpass_fds\u001b[49m\u001b[43m,\u001b[49m\u001b[43m \u001b[49m\u001b[43mcwd\u001b[49m\u001b[43m,\u001b[49m\u001b[43m \u001b[49m\u001b[43menv\u001b[49m\u001b[43m,\u001b[49m\n\u001b[0;32m    973\u001b[0m \u001b[43m                        \u001b[49m\u001b[43mstartupinfo\u001b[49m\u001b[43m,\u001b[49m\u001b[43m \u001b[49m\u001b[43mcreationflags\u001b[49m\u001b[43m,\u001b[49m\u001b[43m \u001b[49m\u001b[43mshell\u001b[49m\u001b[43m,\u001b[49m\n\u001b[0;32m    974\u001b[0m \u001b[43m                        \u001b[49m\u001b[43mp2cread\u001b[49m\u001b[43m,\u001b[49m\u001b[43m \u001b[49m\u001b[43mp2cwrite\u001b[49m\u001b[43m,\u001b[49m\n\u001b[0;32m    975\u001b[0m \u001b[43m                        \u001b[49m\u001b[43mc2pread\u001b[49m\u001b[43m,\u001b[49m\u001b[43m \u001b[49m\u001b[43mc2pwrite\u001b[49m\u001b[43m,\u001b[49m\n\u001b[0;32m    976\u001b[0m \u001b[43m                        \u001b[49m\u001b[43merrread\u001b[49m\u001b[43m,\u001b[49m\u001b[43m \u001b[49m\u001b[43merrwrite\u001b[49m\u001b[43m,\u001b[49m\n\u001b[0;32m    977\u001b[0m \u001b[43m                        \u001b[49m\u001b[43mrestore_signals\u001b[49m\u001b[43m,\u001b[49m\n\u001b[0;32m    978\u001b[0m \u001b[43m                        \u001b[49m\u001b[43mgid\u001b[49m\u001b[43m,\u001b[49m\u001b[43m \u001b[49m\u001b[43mgids\u001b[49m\u001b[43m,\u001b[49m\u001b[43m \u001b[49m\u001b[43muid\u001b[49m\u001b[43m,\u001b[49m\u001b[43m \u001b[49m\u001b[43mumask\u001b[49m\u001b[43m,\u001b[49m\n\u001b[0;32m    979\u001b[0m \u001b[43m                        \u001b[49m\u001b[43mstart_new_session\u001b[49m\u001b[43m)\u001b[49m\n\u001b[0;32m    980\u001b[0m \u001b[38;5;28;01mexcept\u001b[39;00m:\n\u001b[0;32m    981\u001b[0m     \u001b[38;5;66;03m# Cleanup if the child failed starting.\u001b[39;00m\n",
      "File \u001b[1;32m~\\AppData\\Local\\Programs\\Python\\Python310\\lib\\subprocess.py:1440\u001b[0m, in \u001b[0;36mPopen._execute_child\u001b[1;34m(self, args, executable, preexec_fn, close_fds, pass_fds, cwd, env, startupinfo, creationflags, shell, p2cread, p2cwrite, c2pread, c2pwrite, errread, errwrite, unused_restore_signals, unused_gid, unused_gids, unused_uid, unused_umask, unused_start_new_session)\u001b[0m\n\u001b[0;32m   1439\u001b[0m \u001b[38;5;28;01mtry\u001b[39;00m:\n\u001b[1;32m-> 1440\u001b[0m     hp, ht, pid, tid \u001b[38;5;241m=\u001b[39m \u001b[43m_winapi\u001b[49m\u001b[38;5;241;43m.\u001b[39;49m\u001b[43mCreateProcess\u001b[49m\u001b[43m(\u001b[49m\u001b[43mexecutable\u001b[49m\u001b[43m,\u001b[49m\u001b[43m \u001b[49m\u001b[43margs\u001b[49m\u001b[43m,\u001b[49m\n\u001b[0;32m   1441\u001b[0m \u001b[43m                             \u001b[49m\u001b[38;5;66;43;03m# no special security\u001b[39;49;00m\n\u001b[0;32m   1442\u001b[0m \u001b[43m                             \u001b[49m\u001b[38;5;28;43;01mNone\u001b[39;49;00m\u001b[43m,\u001b[49m\u001b[43m \u001b[49m\u001b[38;5;28;43;01mNone\u001b[39;49;00m\u001b[43m,\u001b[49m\n\u001b[0;32m   1443\u001b[0m \u001b[43m                             \u001b[49m\u001b[38;5;28;43mint\u001b[39;49m\u001b[43m(\u001b[49m\u001b[38;5;129;43;01mnot\u001b[39;49;00m\u001b[43m \u001b[49m\u001b[43mclose_fds\u001b[49m\u001b[43m)\u001b[49m\u001b[43m,\u001b[49m\n\u001b[0;32m   1444\u001b[0m \u001b[43m                             \u001b[49m\u001b[43mcreationflags\u001b[49m\u001b[43m,\u001b[49m\n\u001b[0;32m   1445\u001b[0m \u001b[43m                             \u001b[49m\u001b[43menv\u001b[49m\u001b[43m,\u001b[49m\n\u001b[0;32m   1446\u001b[0m \u001b[43m                             \u001b[49m\u001b[43mcwd\u001b[49m\u001b[43m,\u001b[49m\n\u001b[0;32m   1447\u001b[0m \u001b[43m                             \u001b[49m\u001b[43mstartupinfo\u001b[49m\u001b[43m)\u001b[49m\n\u001b[0;32m   1448\u001b[0m \u001b[38;5;28;01mfinally\u001b[39;00m:\n\u001b[0;32m   1449\u001b[0m     \u001b[38;5;66;03m# Child is launched. Close the parent's copy of those pipe\u001b[39;00m\n\u001b[0;32m   1450\u001b[0m     \u001b[38;5;66;03m# handles that only the child should have open.  You need\u001b[39;00m\n\u001b[1;32m   (...)\u001b[0m\n\u001b[0;32m   1453\u001b[0m     \u001b[38;5;66;03m# pipe will not close when the child process exits and the\u001b[39;00m\n\u001b[0;32m   1454\u001b[0m     \u001b[38;5;66;03m# ReadFile will hang.\u001b[39;00m\n",
      "\u001b[1;31mFileNotFoundError\u001b[0m: [WinError 2] The system cannot find the file specified",
      "\nDuring handling of the above exception, another exception occurred:\n",
      "\u001b[1;31mTesseractNotFoundError\u001b[0m                    Traceback (most recent call last)",
      "Cell \u001b[1;32mIn[19], line 8\u001b[0m\n\u001b[0;32m      5\u001b[0m   \u001b[38;5;28mprint\u001b[39m(\u001b[38;5;124mf\u001b[39m\u001b[38;5;124m\"\u001b[39m\u001b[38;5;124mImage not found at \u001b[39m\u001b[38;5;132;01m{\u001b[39;00mimage_path\u001b[38;5;132;01m}\u001b[39;00m\u001b[38;5;124m !!!\u001b[39m\u001b[38;5;124m\"\u001b[39m)\n\u001b[0;32m      6\u001b[0m \u001b[38;5;28;01melse\u001b[39;00m:\n\u001b[0;32m      7\u001b[0m   \u001b[38;5;66;03m# Gọi hàm để trích xuất thông tin từ ảnh passport\u001b[39;00m\n\u001b[1;32m----> 8\u001b[0m   result \u001b[38;5;241m=\u001b[39m \u001b[43mextract_info_from_passport\u001b[49m\u001b[43m(\u001b[49m\u001b[43mimage_path\u001b[49m\u001b[43m)\u001b[49m\n",
      "Cell \u001b[1;32mIn[6], line 8\u001b[0m, in \u001b[0;36mextract_info_from_passport\u001b[1;34m(image_path)\u001b[0m\n\u001b[0;32m      3\u001b[0m \u001b[38;5;250m\u001b[39m\u001b[38;5;124;03m\"\"\"\u001b[39;00m\n\u001b[0;32m      4\u001b[0m \u001b[38;5;124;03mHàm kết hợp các bước trên để trích xuất thông tin từ ảnh passport.\u001b[39;00m\n\u001b[0;32m      5\u001b[0m \u001b[38;5;124;03mTrả về kết quả MRZ và văn bản OCR dưới dạng JSON.\u001b[39;00m\n\u001b[0;32m      6\u001b[0m \u001b[38;5;124;03m\"\"\"\u001b[39;00m\n\u001b[0;32m      7\u001b[0m \u001b[38;5;66;03m# Trích xuất MRZ\u001b[39;00m\n\u001b[1;32m----> 8\u001b[0m mrz_info \u001b[38;5;241m=\u001b[39m \u001b[43mextract_mrz_info\u001b[49m\u001b[43m(\u001b[49m\u001b[43mimage_path\u001b[49m\u001b[43m)\u001b[49m\n\u001b[0;32m     10\u001b[0m \u001b[38;5;66;03m# Xử lý ảnh với OpenCV\u001b[39;00m\n\u001b[0;32m     11\u001b[0m processed_image \u001b[38;5;241m=\u001b[39m preprocess_image(image_path)\n",
      "Cell \u001b[1;32mIn[3], line 6\u001b[0m, in \u001b[0;36mextract_mrz_info\u001b[1;34m(image_path)\u001b[0m\n\u001b[0;32m      2\u001b[0m \u001b[38;5;28;01mdef\u001b[39;00m\u001b[38;5;250m \u001b[39m\u001b[38;5;21mextract_mrz_info\u001b[39m(image_path):\n\u001b[0;32m      3\u001b[0m \u001b[38;5;250m    \u001b[39m\u001b[38;5;124;03m\"\"\"\u001b[39;00m\n\u001b[0;32m      4\u001b[0m \u001b[38;5;124;03m    Hàm này sử dụng PassportEye để nhận diện MRZ từ ảnh hộ chiếu và trả về thông tin dạng dictionary.\u001b[39;00m\n\u001b[0;32m      5\u001b[0m \u001b[38;5;124;03m    \"\"\"\u001b[39;00m\n\u001b[1;32m----> 6\u001b[0m     mrz \u001b[38;5;241m=\u001b[39m \u001b[43mread_mrz\u001b[49m\u001b[43m(\u001b[49m\u001b[43mimage_path\u001b[49m\u001b[43m)\u001b[49m\n\u001b[0;32m      7\u001b[0m     \u001b[38;5;28;01mif\u001b[39;00m mrz \u001b[38;5;129;01mis\u001b[39;00m \u001b[38;5;129;01mnot\u001b[39;00m \u001b[38;5;28;01mNone\u001b[39;00m:\n\u001b[0;32m      8\u001b[0m         \u001b[38;5;28;01mreturn\u001b[39;00m mrz\u001b[38;5;241m.\u001b[39mto_dict()\n",
      "File \u001b[1;32mc:\\repos\\vs-code\\baauf-do\\repos-py-example\\project\\wcode-iai\\easia-green\\.venv-green\\lib\\site-packages\\passporteye\\mrz\\image.py:355\u001b[0m, in \u001b[0;36mread_mrz\u001b[1;34m(file, save_roi, extra_cmdline_params)\u001b[0m\n\u001b[0;32m    347\u001b[0m \u001b[38;5;250m\u001b[39m\u001b[38;5;124;03m\"\"\"The main interface function to this module, encapsulating the recognition pipeline.\u001b[39;00m\n\u001b[0;32m    348\u001b[0m \u001b[38;5;124;03m   Given an image filename, runs MRZPipeline on it, returning the parsed MRZ object.\u001b[39;00m\n\u001b[0;32m    349\u001b[0m \n\u001b[1;32m   (...)\u001b[0m\n\u001b[0;32m    352\u001b[0m \u001b[38;5;124;03m:param extra_cmdline_params:extra parameters to the ocr.py\u001b[39;00m\n\u001b[0;32m    353\u001b[0m \u001b[38;5;124;03m\"\"\"\u001b[39;00m\n\u001b[0;32m    354\u001b[0m p \u001b[38;5;241m=\u001b[39m MRZPipeline(file, extra_cmdline_params)\n\u001b[1;32m--> 355\u001b[0m mrz \u001b[38;5;241m=\u001b[39m \u001b[43mp\u001b[49m\u001b[38;5;241;43m.\u001b[39;49m\u001b[43mresult\u001b[49m\n\u001b[0;32m    356\u001b[0m \u001b[38;5;28;01mif\u001b[39;00m mrz \u001b[38;5;129;01mis\u001b[39;00m \u001b[38;5;129;01mnot\u001b[39;00m \u001b[38;5;28;01mNone\u001b[39;00m \u001b[38;5;129;01mand\u001b[39;00m save_roi:\n\u001b[0;32m    357\u001b[0m     mrz\u001b[38;5;241m.\u001b[39maux[\u001b[38;5;124m'\u001b[39m\u001b[38;5;124mroi\u001b[39m\u001b[38;5;124m'\u001b[39m] \u001b[38;5;241m=\u001b[39m p[\u001b[38;5;124m'\u001b[39m\u001b[38;5;124mroi\u001b[39m\u001b[38;5;124m'\u001b[39m]\n",
      "File \u001b[1;32mc:\\repos\\vs-code\\baauf-do\\repos-py-example\\project\\wcode-iai\\easia-green\\.venv-green\\lib\\site-packages\\passporteye\\mrz\\image.py:343\u001b[0m, in \u001b[0;36mMRZPipeline.result\u001b[1;34m(self)\u001b[0m\n\u001b[0;32m    341\u001b[0m \u001b[38;5;129m@property\u001b[39m\n\u001b[0;32m    342\u001b[0m \u001b[38;5;28;01mdef\u001b[39;00m\u001b[38;5;250m \u001b[39m\u001b[38;5;21mresult\u001b[39m(\u001b[38;5;28mself\u001b[39m):\n\u001b[1;32m--> 343\u001b[0m     \u001b[38;5;28;01mreturn\u001b[39;00m \u001b[38;5;28;43mself\u001b[39;49m\u001b[43m[\u001b[49m\u001b[38;5;124;43m'\u001b[39;49m\u001b[38;5;124;43mmrz_final\u001b[39;49m\u001b[38;5;124;43m'\u001b[39;49m\u001b[43m]\u001b[49m\n",
      "File \u001b[1;32mc:\\repos\\vs-code\\baauf-do\\repos-py-example\\project\\wcode-iai\\easia-green\\.venv-green\\lib\\site-packages\\passporteye\\util\\pipeline.py:102\u001b[0m, in \u001b[0;36mPipeline.__getitem__\u001b[1;34m(self, key)\u001b[0m\n\u001b[0;32m    101\u001b[0m \u001b[38;5;28;01mdef\u001b[39;00m\u001b[38;5;250m \u001b[39m\u001b[38;5;21m__getitem__\u001b[39m(\u001b[38;5;28mself\u001b[39m, key):\n\u001b[1;32m--> 102\u001b[0m     \u001b[38;5;28;43mself\u001b[39;49m\u001b[38;5;241;43m.\u001b[39;49m\u001b[43m_compute\u001b[49m\u001b[43m(\u001b[49m\u001b[43mkey\u001b[49m\u001b[43m)\u001b[49m\n\u001b[0;32m    103\u001b[0m     \u001b[38;5;28;01mreturn\u001b[39;00m \u001b[38;5;28mself\u001b[39m\u001b[38;5;241m.\u001b[39mdata[key]\n",
      "File \u001b[1;32mc:\\repos\\vs-code\\baauf-do\\repos-py-example\\project\\wcode-iai\\easia-green\\.venv-green\\lib\\site-packages\\passporteye\\util\\pipeline.py:109\u001b[0m, in \u001b[0;36mPipeline._compute\u001b[1;34m(self, key)\u001b[0m\n\u001b[0;32m    107\u001b[0m cname \u001b[38;5;241m=\u001b[39m \u001b[38;5;28mself\u001b[39m\u001b[38;5;241m.\u001b[39mwhoprovides[key]\n\u001b[0;32m    108\u001b[0m \u001b[38;5;28;01mfor\u001b[39;00m d \u001b[38;5;129;01min\u001b[39;00m \u001b[38;5;28mself\u001b[39m\u001b[38;5;241m.\u001b[39mdepends[cname]:\n\u001b[1;32m--> 109\u001b[0m     \u001b[38;5;28;43mself\u001b[39;49m\u001b[38;5;241;43m.\u001b[39;49m\u001b[43m_compute\u001b[49m\u001b[43m(\u001b[49m\u001b[43md\u001b[49m\u001b[43m)\u001b[49m\n\u001b[0;32m    110\u001b[0m inputs \u001b[38;5;241m=\u001b[39m [\u001b[38;5;28mself\u001b[39m\u001b[38;5;241m.\u001b[39mdata[d] \u001b[38;5;28;01mfor\u001b[39;00m d \u001b[38;5;129;01min\u001b[39;00m \u001b[38;5;28mself\u001b[39m\u001b[38;5;241m.\u001b[39mdepends[cname]]\n\u001b[0;32m    111\u001b[0m results \u001b[38;5;241m=\u001b[39m \u001b[38;5;28mself\u001b[39m\u001b[38;5;241m.\u001b[39mcomponents[cname](\u001b[38;5;241m*\u001b[39minputs)\n",
      "File \u001b[1;32mc:\\repos\\vs-code\\baauf-do\\repos-py-example\\project\\wcode-iai\\easia-green\\.venv-green\\lib\\site-packages\\passporteye\\util\\pipeline.py:111\u001b[0m, in \u001b[0;36mPipeline._compute\u001b[1;34m(self, key)\u001b[0m\n\u001b[0;32m    109\u001b[0m     \u001b[38;5;28mself\u001b[39m\u001b[38;5;241m.\u001b[39m_compute(d)\n\u001b[0;32m    110\u001b[0m inputs \u001b[38;5;241m=\u001b[39m [\u001b[38;5;28mself\u001b[39m\u001b[38;5;241m.\u001b[39mdata[d] \u001b[38;5;28;01mfor\u001b[39;00m d \u001b[38;5;129;01min\u001b[39;00m \u001b[38;5;28mself\u001b[39m\u001b[38;5;241m.\u001b[39mdepends[cname]]\n\u001b[1;32m--> 111\u001b[0m results \u001b[38;5;241m=\u001b[39m \u001b[38;5;28;43mself\u001b[39;49m\u001b[38;5;241;43m.\u001b[39;49m\u001b[43mcomponents\u001b[49m\u001b[43m[\u001b[49m\u001b[43mcname\u001b[49m\u001b[43m]\u001b[49m\u001b[43m(\u001b[49m\u001b[38;5;241;43m*\u001b[39;49m\u001b[43minputs\u001b[49m\u001b[43m)\u001b[49m\n\u001b[0;32m    112\u001b[0m \u001b[38;5;28;01mif\u001b[39;00m \u001b[38;5;28mlen\u001b[39m(\u001b[38;5;28mself\u001b[39m\u001b[38;5;241m.\u001b[39mprovides[cname]) \u001b[38;5;241m==\u001b[39m \u001b[38;5;241m1\u001b[39m:\n\u001b[0;32m    113\u001b[0m     \u001b[38;5;28mself\u001b[39m\u001b[38;5;241m.\u001b[39mdata[\u001b[38;5;28mself\u001b[39m\u001b[38;5;241m.\u001b[39mprovides[cname][\u001b[38;5;241m0\u001b[39m]] \u001b[38;5;241m=\u001b[39m results\n",
      "File \u001b[1;32mc:\\repos\\vs-code\\baauf-do\\repos-py-example\\project\\wcode-iai\\easia-green\\.venv-green\\lib\\site-packages\\passporteye\\mrz\\image.py:212\u001b[0m, in \u001b[0;36mFindFirstValidMRZ.__call__\u001b[1;34m(self, boxes, img, img_small, scale_factor, data)\u001b[0m\n\u001b[0;32m    210\u001b[0m data[\u001b[38;5;124m'\u001b[39m\u001b[38;5;124m__debug__mrz\u001b[39m\u001b[38;5;124m'\u001b[39m] \u001b[38;5;241m=\u001b[39m []\n\u001b[0;32m    211\u001b[0m \u001b[38;5;28;01mfor\u001b[39;00m i, b \u001b[38;5;129;01min\u001b[39;00m \u001b[38;5;28menumerate\u001b[39m(boxes):\n\u001b[1;32m--> 212\u001b[0m     roi, text, mrz \u001b[38;5;241m=\u001b[39m \u001b[38;5;28;43mself\u001b[39;49m\u001b[38;5;241;43m.\u001b[39;49m\u001b[43mbox_to_mrz\u001b[49m\u001b[43m(\u001b[49m\u001b[43mb\u001b[49m\u001b[43m,\u001b[49m\u001b[43m \u001b[49m\u001b[43mimg\u001b[49m\u001b[43m,\u001b[49m\u001b[43m \u001b[49m\u001b[43mimg_small\u001b[49m\u001b[43m,\u001b[49m\u001b[43m \u001b[49m\u001b[43mscale_factor\u001b[49m\u001b[43m)\u001b[49m\n\u001b[0;32m    213\u001b[0m     data[\u001b[38;5;124m'\u001b[39m\u001b[38;5;124m__debug__mrz\u001b[39m\u001b[38;5;124m'\u001b[39m]\u001b[38;5;241m.\u001b[39mappend((roi, text, mrz))\n\u001b[0;32m    214\u001b[0m     \u001b[38;5;28;01mif\u001b[39;00m mrz\u001b[38;5;241m.\u001b[39mvalid:\n",
      "File \u001b[1;32mc:\\repos\\vs-code\\baauf-do\\repos-py-example\\project\\wcode-iai\\easia-green\\.venv-green\\lib\\site-packages\\passporteye\\mrz\\image.py:242\u001b[0m, in \u001b[0;36mBoxToMRZ.__call__\u001b[1;34m(self, box, img, img_small, scale_factor)\u001b[0m\n\u001b[0;32m    240\u001b[0m scale \u001b[38;5;241m=\u001b[39m \u001b[38;5;241m1.0\u001b[39m \u001b[38;5;241m/\u001b[39m scale_factor \u001b[38;5;28;01mif\u001b[39;00m \u001b[38;5;28mself\u001b[39m\u001b[38;5;241m.\u001b[39muse_original_image \u001b[38;5;28;01melse\u001b[39;00m \u001b[38;5;241m1.0\u001b[39m\n\u001b[0;32m    241\u001b[0m roi \u001b[38;5;241m=\u001b[39m box\u001b[38;5;241m.\u001b[39mextract_from_image(img, scale)\n\u001b[1;32m--> 242\u001b[0m text \u001b[38;5;241m=\u001b[39m \u001b[43mocr\u001b[49m\u001b[43m(\u001b[49m\u001b[43mroi\u001b[49m\u001b[43m,\u001b[49m\u001b[43m \u001b[49m\u001b[43mextra_cmdline_params\u001b[49m\u001b[38;5;241;43m=\u001b[39;49m\u001b[38;5;28;43mself\u001b[39;49m\u001b[38;5;241;43m.\u001b[39;49m\u001b[43mextra_cmdline_params\u001b[49m\u001b[43m)\u001b[49m\n\u001b[0;32m    244\u001b[0m \u001b[38;5;28;01mif\u001b[39;00m \u001b[38;5;124m'\u001b[39m\u001b[38;5;124m>>\u001b[39m\u001b[38;5;124m'\u001b[39m \u001b[38;5;129;01min\u001b[39;00m text \u001b[38;5;129;01mor\u001b[39;00m (\u001b[38;5;124m'\u001b[39m\u001b[38;5;124m>\u001b[39m\u001b[38;5;124m'\u001b[39m \u001b[38;5;129;01min\u001b[39;00m text \u001b[38;5;129;01mand\u001b[39;00m \u001b[38;5;124m'\u001b[39m\u001b[38;5;124m<\u001b[39m\u001b[38;5;124m'\u001b[39m \u001b[38;5;129;01mnot\u001b[39;00m \u001b[38;5;129;01min\u001b[39;00m text):\n\u001b[0;32m    245\u001b[0m     \u001b[38;5;66;03m# Most probably we need to reverse the ROI\u001b[39;00m\n\u001b[0;32m    246\u001b[0m     roi \u001b[38;5;241m=\u001b[39m roi[::\u001b[38;5;241m-\u001b[39m\u001b[38;5;241m1\u001b[39m, ::\u001b[38;5;241m-\u001b[39m\u001b[38;5;241m1\u001b[39m]\n",
      "File \u001b[1;32mc:\\repos\\vs-code\\baauf-do\\repos-py-example\\project\\wcode-iai\\easia-green\\.venv-green\\lib\\site-packages\\passporteye\\util\\ocr.py:48\u001b[0m, in \u001b[0;36mocr\u001b[1;34m(img, mrz_mode, extra_cmdline_params)\u001b[0m\n\u001b[0;32m     45\u001b[0m \u001b[38;5;28;01melse\u001b[39;00m:\n\u001b[0;32m     46\u001b[0m     config \u001b[38;5;241m=\u001b[39m \u001b[38;5;124m\"\u001b[39m\u001b[38;5;132;01m{}\u001b[39;00m\u001b[38;5;124m\"\u001b[39m\u001b[38;5;241m.\u001b[39mformat(extra_cmdline_params)\n\u001b[1;32m---> 48\u001b[0m \u001b[43mpytesseract\u001b[49m\u001b[38;5;241;43m.\u001b[39;49m\u001b[43mrun_tesseract\u001b[49m\u001b[43m(\u001b[49m\u001b[43minput_file_name\u001b[49m\u001b[43m,\u001b[49m\n\u001b[0;32m     49\u001b[0m \u001b[43m                          \u001b[49m\u001b[43moutput_file_name_base\u001b[49m\u001b[43m,\u001b[49m\n\u001b[0;32m     50\u001b[0m \u001b[43m                          \u001b[49m\u001b[38;5;124;43m'\u001b[39;49m\u001b[38;5;124;43mtxt\u001b[39;49m\u001b[38;5;124;43m'\u001b[39;49m\u001b[43m,\u001b[49m\n\u001b[0;32m     51\u001b[0m \u001b[43m                          \u001b[49m\u001b[43mlang\u001b[49m\u001b[38;5;241;43m=\u001b[39;49m\u001b[38;5;28;43;01mNone\u001b[39;49;00m\u001b[43m,\u001b[49m\n\u001b[0;32m     52\u001b[0m \u001b[43m                          \u001b[49m\u001b[43mconfig\u001b[49m\u001b[38;5;241;43m=\u001b[39;49m\u001b[43mconfig\u001b[49m\u001b[43m)\u001b[49m\n\u001b[0;32m     54\u001b[0m f \u001b[38;5;241m=\u001b[39m \u001b[38;5;28mopen\u001b[39m(output_file_name, encoding\u001b[38;5;241m=\u001b[39m\u001b[38;5;124m'\u001b[39m\u001b[38;5;124mutf-8\u001b[39m\u001b[38;5;124m'\u001b[39m)\n\u001b[0;32m     56\u001b[0m \u001b[38;5;28;01mtry\u001b[39;00m:\n",
      "File \u001b[1;32mc:\\repos\\vs-code\\baauf-do\\repos-py-example\\project\\wcode-iai\\easia-green\\.venv-green\\lib\\site-packages\\pytesseract\\pytesseract.py:280\u001b[0m, in \u001b[0;36mrun_tesseract\u001b[1;34m(input_filename, output_filename_base, extension, lang, config, nice, timeout)\u001b[0m\n\u001b[0;32m    278\u001b[0m         \u001b[38;5;28;01mraise\u001b[39;00m\n\u001b[0;32m    279\u001b[0m     \u001b[38;5;28;01melse\u001b[39;00m:\n\u001b[1;32m--> 280\u001b[0m         \u001b[38;5;28;01mraise\u001b[39;00m TesseractNotFoundError()\n\u001b[0;32m    282\u001b[0m \u001b[38;5;28;01mwith\u001b[39;00m timeout_manager(proc, timeout) \u001b[38;5;28;01mas\u001b[39;00m error_string:\n\u001b[0;32m    283\u001b[0m     \u001b[38;5;28;01mif\u001b[39;00m proc\u001b[38;5;241m.\u001b[39mreturncode:\n",
      "\u001b[1;31mTesseractNotFoundError\u001b[0m: tesseract is not installed or it's not in your PATH. See README file for more information."
     ]
    }
   ],
   "source": [
    "# 5. Chạy thử với ảnh passport\n",
    "image_path = os.path.join(os.getcwd(), '..', 'store', 'input', 'visa-1.jpg' ) # Đường dẫn đến ảnh passport\n",
    "# kiểm tra xem ảnh có tồn tại không\n",
    "if not os.path.exists(image_path):\n",
    "  print(f\"Image not found at {image_path} !!!\")\n",
    "else:\n",
    "  # Gọi hàm để trích xuất thông tin từ ảnh passport\n",
    "  result = extract_info_from_passport(image_path)\n",
    "\n"
   ]
  },
  {
   "cell_type": "code",
   "execution_count": null,
   "id": "2ebcadaf",
   "metadata": {},
   "outputs": [],
   "source": [
    "# 6. In kết quả\n",
    "print(result)  # In kết quả\n",
    "# Kết quả sẽ là một JSON chứa thông tin MRZ và văn bản OCR\n",
    "# Chuyển đổi kết quả JSON thành dictionary để dễ đọc hơn\n",
    "result_dict = json.loads(result)\n",
    "# In thông tin MRZ\n",
    "print(\"MRZ Information:\")\n",
    "print(json.dumps(result_dict[\"mrz_info\"], ensure_ascii=False, indent=4))\n",
    "# In thông tin OCR\n",
    "print(\"OCR Result:\")\n",
    "for line in result_dict[\"ocr_result\"]:\n",
    "    for word_info in line:\n",
    "        print(word_info[1][0])  # In từng từ được nhận diện\n",
    "# Vẽ ảnh với matplotlib\n",
    "plt.imshow(cv2.cvtColor(processed_image, cv2.COLOR_BGR2RGB))  # Chuyển đổi màu sắc từ BGR sang RGB\n",
    "plt.axis('off')  # Tắt trục\n",
    "plt.show()  # Hiển thị ảnh\n",
    "# Lưu kết quả vào file JSON\n",
    "output_path = os.path.join(os.getcwd(), '..', 'store', 'output', 'passport_info.json')  # Đường dẫn lưu file JSON\n",
    "with open(output_path, 'w', encoding='utf-8') as f:\n",
    "    json.dump(result_dict, f, ensure_ascii=False, indent=4)  # Lưu kết quả vào file JSON\n",
    "print(f\"Result saved to {output_path}\")  # In ra thông báo đã lưu kết quả\n",
    "# Kết thúc\n"
   ]
  },
  {
   "cell_type": "code",
   "execution_count": null,
   "id": "4df311c7",
   "metadata": {},
   "outputs": [],
   "source": [
    "# 7. Hiển thị ảnh đã xử lý (tùy chọn)\n",
    "processed_image = preprocess_image(image_path)\n",
    "plt.imshow(processed_image, cmap='gray')\n",
    "plt.title('Processed Image (Grayscale + Thresholding)')\n",
    "plt.axis('off')  # Tắt hiển thị trục\n",
    "plt.show()"
   ]
  }
 ],
 "metadata": {
  "kernelspec": {
   "display_name": ".venv-green",
   "language": "python",
   "name": "python3"
  },
  "language_info": {
   "codemirror_mode": {
    "name": "ipython",
    "version": 3
   },
   "file_extension": ".py",
   "mimetype": "text/x-python",
   "name": "python",
   "nbconvert_exporter": "python",
   "pygments_lexer": "ipython3",
   "version": "3.10.10"
  }
 },
 "nbformat": 4,
 "nbformat_minor": 5
}
