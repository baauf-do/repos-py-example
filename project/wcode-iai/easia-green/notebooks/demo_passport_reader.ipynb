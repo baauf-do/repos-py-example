{
 "cells": [
  {
   "cell_type": "markdown",
   "metadata": {},
   "source": [
    "# 🧪 Demo: Passport Reader (EASIA GREEN)\n",
    "\n",
    "Đọc thông tin từ ảnh hộ chiếu và hiển thị dưới dạng bảng với `pandas`."
   ]
  },
  {
   "cell_type": "code",
   "execution_count": null,
   "metadata": {},
   "outputs": [],
   "source": [
    "import pandas as pd\n",
    "from app.core.reader import extract_passport_info"
   ]
  },
  {
   "cell_type": "code",
   "execution_count": null,
   "metadata": {},
   "outputs": [],
   "source": [
    "# Đường dẫn đến ảnh test\n",
    "image_path = \"store/input/sample-passport.jpg\"\n",
    "with open(image_path, \"rb\") as f:\n",
    "    file_bytes = f.read()\n",
    "\n",
    "# Gọi pipeline\n",
    "result = extract_passport_info(\"sample-passport.jpg\", file_bytes)\n",
    "\n",
    "# Hiển thị dưới dạng bảng\n",
    "df = pd.DataFrame([result])\n",
    "df"
   ]
  }
 ],
 "metadata": {
  "kernelspec": {
   "display_name": "Python (.venv-green)",
   "language": "python",
   "name": ".venv-green"
  },
  "language_info": {
   "name": "python",
   "version": "3.10"
  }
 },
 "nbformat": 4,
 "nbformat_minor": 2
}
