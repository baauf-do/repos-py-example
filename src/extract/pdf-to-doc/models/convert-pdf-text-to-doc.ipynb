{
 "cells": [
  {
   "cell_type": "markdown",
   "id": "2baf6723",
   "metadata": {},
   "source": [
    "# Convert .pdf (text) to .doc"
   ]
  },
  {
   "cell_type": "code",
   "execution_count": null,
   "id": "7b0675f6",
   "metadata": {},
   "outputs": [],
   "source": [
    "# Cài đặt thư viện cần dùng bằng pip trong Jupyter Notebook\n",
    "%pip install python-docx\n",
    "%pip install pdfplumber"
   ]
  },
  {
   "cell_type": "code",
   "execution_count": 6,
   "id": "f3d16567",
   "metadata": {},
   "outputs": [],
   "source": [
    "# Khai báo thư viện sử dung\n",
    "import pdfplumber\n",
    "from docx import Document\n",
    "import os"
   ]
  },
  {
   "cell_type": "code",
   "execution_count": null,
   "id": "a7c24fa8",
   "metadata": {},
   "outputs": [],
   "source": [
    "# Định nghĩa đường dẫn file\n",
    "input_pdf_path = os.path.join(\"data\", \"input\", \"cay-thuoc-an-giang-2pages.pdf\")\n",
    "output_docx_path = os.path.join(\n",
    "    \"data\", \"output\", \"cay-thuoc-an-giang-2pages_convert.docx\"\n",
    ")"
   ]
  },
  {
   "cell_type": "code",
   "execution_count": 8,
   "id": "2dc196b4",
   "metadata": {},
   "outputs": [],
   "source": [
    "# Tạo file Word mới\n",
    "doc = Document()"
   ]
  },
  {
   "cell_type": "code",
   "execution_count": 9,
   "id": "c3c368f7",
   "metadata": {},
   "outputs": [],
   "source": [
    "# Đọc và ghi nội dung từ PDF\n",
    "with pdfplumber.open(input_pdf_path) as pdf:\n",
    "    for page_num, page in enumerate(pdf.pages, start=1):\n",
    "        text = page.extract_text()\n",
    "        if text:\n",
    "            doc.add_paragraph(text)\n",
    "        doc.add_page_break()  # Ngắt trang trong Word cho tương ứng"
   ]
  },
  {
   "cell_type": "code",
   "execution_count": 10,
   "id": "eddd7304",
   "metadata": {},
   "outputs": [],
   "source": [
    "# Lưu file Word\n",
    "doc.save(output_docx_path)"
   ]
  },
  {
   "cell_type": "code",
   "execution_count": 11,
   "id": "d4adedf1",
   "metadata": {},
   "outputs": [
    {
     "name": "stdout",
     "output_type": "stream",
     "text": [
      "✅ Đã chuyển đổi xong: data\\cay-thuoc-an-giang-2pages_convert.docx\n"
     ]
    }
   ],
   "source": [
    "print(f\"✅ Đã chuyển đổi xong: {output_docx_path}\")"
   ]
  }
 ],
 "metadata": {
  "kernelspec": {
   "display_name": "Python 3",
   "language": "python",
   "name": "python3"
  },
  "language_info": {
   "codemirror_mode": {
    "name": "ipython",
    "version": 3
   },
   "file_extension": ".py",
   "mimetype": "text/x-python",
   "name": "python",
   "nbconvert_exporter": "python",
   "pygments_lexer": "ipython3",
   "version": "3.13.2"
  }
 },
 "nbformat": 4,
 "nbformat_minor": 5
}
