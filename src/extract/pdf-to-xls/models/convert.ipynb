{
 "cells": [
  {
   "cell_type": "markdown",
   "id": "267fb862",
   "metadata": {},
   "source": [
    "# Convert pdf to xls"
   ]
  }
 ],
 "metadata": {
  "language_info": {
   "name": "python"
  }
 },
 "nbformat": 4,
 "nbformat_minor": 5
}
