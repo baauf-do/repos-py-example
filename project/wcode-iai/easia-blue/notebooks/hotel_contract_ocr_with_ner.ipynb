{
 "cells": [
  {
   "cell_type": "code",
   "execution_count": 1,
   "id": "48fd74fa",
   "metadata": {},
   "outputs": [
    {
     "name": "stdout",
     "output_type": "stream",
     "text": [
      "Note: you may need to restart the kernel to use updated packages.\n",
      "Note: you may need to restart the kernel to use updated packages.\n"
     ]
    }
   ],
   "source": [
    "# Cài đặt thư viện\n",
    "%pip install paddleocr paddlepaddle layoutparser[layoutmodels,tesseract] -q\n",
    "%pip install pandas transformers underthesea -q\n",
    "\n"
   ]
  },
  {
   "cell_type": "code",
   "execution_count": 2,
   "id": "7ca23a38",
   "metadata": {},
   "outputs": [
    {
     "name": "stdout",
     "output_type": "stream",
     "text": [
      "2.7.0+cpu\n"
     ]
    }
   ],
   "source": [
    "import torch\n",
    "print(torch.__version__)"
   ]
  },
  {
   "cell_type": "code",
   "execution_count": 3,
   "id": "183d07a3",
   "metadata": {},
   "outputs": [
    {
     "ename": "ModuleNotFoundError",
     "evalue": "No module named 'detectron2'",
     "output_type": "error",
     "traceback": [
      "\u001b[1;31m---------------------------------------------------------------------------\u001b[0m",
      "\u001b[1;31mModuleNotFoundError\u001b[0m                       Traceback (most recent call last)",
      "Cell \u001b[1;32mIn[3], line 2\u001b[0m\n\u001b[0;32m      1\u001b[0m \u001b[38;5;28;01mimport\u001b[39;00m\u001b[38;5;250m \u001b[39m\u001b[38;5;21;01mlayoutparser\u001b[39;00m\u001b[38;5;250m \u001b[39m\u001b[38;5;28;01mas\u001b[39;00m\u001b[38;5;250m \u001b[39m\u001b[38;5;21;01mlp\u001b[39;00m\n\u001b[1;32m----> 2\u001b[0m \u001b[38;5;28;01mimport\u001b[39;00m\u001b[38;5;250m \u001b[39m\u001b[38;5;21;01mdetectron2\u001b[39;00m\n\u001b[0;32m      4\u001b[0m model \u001b[38;5;241m=\u001b[39m lp\u001b[38;5;241m.\u001b[39mDetectron2LayoutModel(\n\u001b[0;32m      5\u001b[0m     config_path\u001b[38;5;241m=\u001b[39m\u001b[38;5;124m'\u001b[39m\u001b[38;5;124mlp://PubLayNet/faster_rcnn_R_50_FPN_3x/config\u001b[39m\u001b[38;5;124m'\u001b[39m,\n\u001b[0;32m      6\u001b[0m     label_map\u001b[38;5;241m=\u001b[39m{\u001b[38;5;241m0\u001b[39m: \u001b[38;5;124m\"\u001b[39m\u001b[38;5;124mText\u001b[39m\u001b[38;5;124m\"\u001b[39m, \u001b[38;5;241m1\u001b[39m: \u001b[38;5;124m\"\u001b[39m\u001b[38;5;124mTitle\u001b[39m\u001b[38;5;124m\"\u001b[39m, \u001b[38;5;241m2\u001b[39m: \u001b[38;5;124m\"\u001b[39m\u001b[38;5;124mList\u001b[39m\u001b[38;5;124m\"\u001b[39m, \u001b[38;5;241m3\u001b[39m: \u001b[38;5;124m\"\u001b[39m\u001b[38;5;124mTable\u001b[39m\u001b[38;5;124m\"\u001b[39m, \u001b[38;5;241m4\u001b[39m: \u001b[38;5;124m\"\u001b[39m\u001b[38;5;124mFigure\u001b[39m\u001b[38;5;124m\"\u001b[39m},\n\u001b[0;32m      7\u001b[0m     extra_config\u001b[38;5;241m=\u001b[39m[\u001b[38;5;124m\"\u001b[39m\u001b[38;5;124mMODEL.ROI_HEADS.SCORE_THRESH_TEST\u001b[39m\u001b[38;5;124m\"\u001b[39m, \u001b[38;5;241m0.5\u001b[39m]\n\u001b[0;32m      8\u001b[0m )\n",
      "\u001b[1;31mModuleNotFoundError\u001b[0m: No module named 'detectron2'"
     ]
    }
   ],
   "source": [
    "import layoutparser as lp\n",
    "import detectron2\n",
    "\n",
    "model = lp.Detectron2LayoutModel(\n",
    "    config_path='lp://PubLayNet/faster_rcnn_R_50_FPN_3x/config',\n",
    "    label_map={0: \"Text\", 1: \"Title\", 2: \"List\", 3: \"Table\", 4: \"Figure\"},\n",
    "    extra_config=[\"MODEL.ROI_HEADS.SCORE_THRESH_TEST\", 0.5]\n",
    ")"
   ]
  },
  {
   "cell_type": "code",
   "execution_count": 4,
   "id": "ca447593",
   "metadata": {},
   "outputs": [],
   "source": [
    "# Import thư viện\n",
    "import layoutparser as lp\n",
    "import cv2, json, re\n",
    "import pandas as pd\n",
    "import matplotlib.pyplot as plt\n",
    "from paddleocr import PaddleOCR\n",
    "from transformers import AutoTokenizer, AutoModelForTokenClassification, pipeline\n"
   ]
  },
  {
   "cell_type": "code",
   "execution_count": 5,
   "id": "72e08113",
   "metadata": {},
   "outputs": [
    {
     "name": "stdout",
     "output_type": "stream",
     "text": [
      "[2025/05/08 11:28:28] ppocr DEBUG: Namespace(help='==SUPPRESS==', use_gpu=False, use_xpu=False, use_npu=False, use_mlu=False, use_gcu=False, ir_optim=True, use_tensorrt=False, min_subgraph_size=15, precision='fp32', gpu_mem=500, gpu_id=0, image_dir=None, page_num=0, det_algorithm='DB', det_model_dir='C:\\\\Users\\\\doman/.paddleocr/whl\\\\det\\\\en\\\\en_PP-OCRv3_det_infer', det_limit_side_len=960, det_limit_type='max', det_box_type='quad', det_db_thresh=0.3, det_db_box_thresh=0.6, det_db_unclip_ratio=1.5, max_batch_size=10, use_dilation=False, det_db_score_mode='fast', det_east_score_thresh=0.8, det_east_cover_thresh=0.1, det_east_nms_thresh=0.2, det_sast_score_thresh=0.5, det_sast_nms_thresh=0.2, det_pse_thresh=0, det_pse_box_thresh=0.85, det_pse_min_area=16, det_pse_scale=1, scales=[8, 16, 32], alpha=1.0, beta=1.0, fourier_degree=5, rec_algorithm='SVTR_LCNet', rec_model_dir='C:\\\\Users\\\\doman/.paddleocr/whl\\\\rec\\\\latin\\\\latin_PP-OCRv3_rec_infer', rec_image_inverse=True, rec_image_shape='3, 48, 320', rec_batch_num=6, max_text_length=25, rec_char_dict_path='c:\\\\repos\\\\vs-code\\\\baauf-do\\\\repos-py-example\\\\project\\\\wcode-iai\\\\easia-blue\\\\.venv-blue\\\\lib\\\\site-packages\\\\paddleocr\\\\ppocr\\\\utils\\\\dict\\\\latin_dict.txt', use_space_char=True, vis_font_path='./doc/fonts/simfang.ttf', drop_score=0.5, e2e_algorithm='PGNet', e2e_model_dir=None, e2e_limit_side_len=768, e2e_limit_type='max', e2e_pgnet_score_thresh=0.5, e2e_char_dict_path='./ppocr/utils/ic15_dict.txt', e2e_pgnet_valid_set='totaltext', e2e_pgnet_mode='fast', use_angle_cls=True, cls_model_dir='C:\\\\Users\\\\doman/.paddleocr/whl\\\\cls\\\\ch_ppocr_mobile_v2.0_cls_infer', cls_image_shape='3, 48, 192', label_list=['0', '180'], cls_batch_num=6, cls_thresh=0.9, enable_mkldnn=False, cpu_threads=10, use_pdserving=False, warmup=False, sr_model_dir=None, sr_image_shape='3, 32, 128', sr_batch_num=1, draw_img_save_dir='./inference_results', save_crop_res=False, crop_res_save_dir='./output', use_mp=False, total_process_num=1, process_id=0, benchmark=False, save_log_path='./log_output/', show_log=True, use_onnx=False, onnx_providers=False, onnx_sess_options=False, return_word_box=False, output='./output', table_max_len=488, table_algorithm='TableAttn', table_model_dir=None, merge_no_span_structure=True, table_char_dict_path=None, formula_algorithm='LaTeXOCR', formula_model_dir=None, formula_char_dict_path=None, formula_batch_num=1, layout_model_dir=None, layout_dict_path=None, layout_score_threshold=0.5, layout_nms_threshold=0.5, kie_algorithm='LayoutXLM', ser_model_dir=None, re_model_dir=None, use_visual_backbone=True, ser_dict_path='../train_data/XFUND/class_list_xfun.txt', ocr_order_method=None, mode='structure', image_orientation=False, layout=True, table=True, formula=False, ocr=True, recovery=False, recovery_to_markdown=False, use_pdf2docx_api=False, invert=False, binarize=False, alphacolor=(255, 255, 255), lang='vi', det=True, rec=True, type='ocr', savefile=False, ocr_version='PP-OCRv4', structure_version='PP-StructureV2')\n"
     ]
    }
   ],
   "source": [
    "# Khởi tạo OCR tiếng Việt\n",
    "ocr = PaddleOCR(use_angle_cls=True, lang='vi')\n"
   ]
  },
  {
   "cell_type": "code",
   "execution_count": 6,
   "id": "429d406e",
   "metadata": {},
   "outputs": [
    {
     "ename": "AttributeError",
     "evalue": "module layoutparser has no attribute Detectron2LayoutModel",
     "output_type": "error",
     "traceback": [
      "\u001b[1;31m---------------------------------------------------------------------------\u001b[0m",
      "\u001b[1;31mAttributeError\u001b[0m                            Traceback (most recent call last)",
      "Cell \u001b[1;32mIn[6], line 6\u001b[0m\n\u001b[0;32m      3\u001b[0m image \u001b[38;5;241m=\u001b[39m cv2\u001b[38;5;241m.\u001b[39mimread(image_path)\n\u001b[0;32m      4\u001b[0m image_rgb \u001b[38;5;241m=\u001b[39m cv2\u001b[38;5;241m.\u001b[39mcvtColor(image, cv2\u001b[38;5;241m.\u001b[39mCOLOR_BGR2RGB)\n\u001b[1;32m----> 6\u001b[0m model \u001b[38;5;241m=\u001b[39m \u001b[43mlp\u001b[49m\u001b[38;5;241;43m.\u001b[39;49m\u001b[43mDetectron2LayoutModel\u001b[49m(\u001b[38;5;124m'\u001b[39m\u001b[38;5;124mlp://PubLayNet/faster_rcnn_R_50_FPN_3x/config\u001b[39m\u001b[38;5;124m'\u001b[39m)\n\u001b[0;32m      7\u001b[0m layout \u001b[38;5;241m=\u001b[39m model\u001b[38;5;241m.\u001b[39mdetect(image_rgb)\n\u001b[0;32m      9\u001b[0m \u001b[38;5;66;03m# Vẽ các khối văn bản\u001b[39;00m\n",
      "File \u001b[1;32mc:\\repos\\vs-code\\baauf-do\\repos-py-example\\project\\wcode-iai\\easia-blue\\.venv-blue\\lib\\site-packages\\layoutparser\\file_utils.py:226\u001b[0m, in \u001b[0;36m_LazyModule.__getattr__\u001b[1;34m(self, name)\u001b[0m\n\u001b[0;32m    224\u001b[0m     value \u001b[38;5;241m=\u001b[39m \u001b[38;5;28mgetattr\u001b[39m(module, name)\n\u001b[0;32m    225\u001b[0m \u001b[38;5;28;01melse\u001b[39;00m:\n\u001b[1;32m--> 226\u001b[0m     \u001b[38;5;28;01mraise\u001b[39;00m \u001b[38;5;167;01mAttributeError\u001b[39;00m(\u001b[38;5;124mf\u001b[39m\u001b[38;5;124m\"\u001b[39m\u001b[38;5;124mmodule \u001b[39m\u001b[38;5;132;01m{\u001b[39;00m\u001b[38;5;28mself\u001b[39m\u001b[38;5;241m.\u001b[39m\u001b[38;5;18m__name__\u001b[39m\u001b[38;5;132;01m}\u001b[39;00m\u001b[38;5;124m has no attribute \u001b[39m\u001b[38;5;132;01m{\u001b[39;00mname\u001b[38;5;132;01m}\u001b[39;00m\u001b[38;5;124m\"\u001b[39m)\n\u001b[0;32m    228\u001b[0m \u001b[38;5;28msetattr\u001b[39m(\u001b[38;5;28mself\u001b[39m, name, value)\n\u001b[0;32m    229\u001b[0m \u001b[38;5;28;01mreturn\u001b[39;00m value\n",
      "\u001b[1;31mAttributeError\u001b[0m: module layoutparser has no attribute Detectron2LayoutModel"
     ]
    }
   ],
   "source": [
    "# Đọc ảnh hợp đồng khách sạn và phân tích bố cục\n",
    "image_path = 'images/page_0.png'  # ← Đổi tên ảnh tại đây\n",
    "image = cv2.imread(image_path)\n",
    "image_rgb = cv2.cvtColor(image, cv2.COLOR_BGR2RGB)\n",
    "\n",
    "model = lp.Detectron2LayoutModel('lp://PubLayNet/faster_rcnn_R_50_FPN_3x/config')\n",
    "layout = model.detect(image_rgb)\n",
    "\n",
    "# Vẽ các khối văn bản\n",
    "layout.draw(image_rgb, box_width=3)\n",
    "plt.figure(figsize=(12, 10))\n",
    "plt.imshow(image_rgb)\n",
    "plt.axis('off')\n",
    "plt.show()\n"
   ]
  },
  {
   "cell_type": "code",
   "execution_count": null,
   "id": "d57f998d",
   "metadata": {},
   "outputs": [],
   "source": [
    "# OCR từng block văn bản theo layout\n",
    "all_text = []\n",
    "for block in layout:\n",
    "    x_1, y_1, x_2, y_2 = map(int, block.coordinates)\n",
    "    cropped = image[y_1:y_2, x_1:x_2]\n",
    "    result = ocr.ocr(cropped, cls=True)\n",
    "    text = ' '.join([line[1][0] for line in result[0]])\n",
    "    all_text.append(text)\n",
    "\n",
    "merged_text = ' '.join(all_text)\n",
    "print(merged_text)\n"
   ]
  },
  {
   "cell_type": "markdown",
   "id": "adef2b34",
   "metadata": {},
   "source": [
    "✅ Cách 1: Trích xuất bằng Regex"
   ]
  },
  {
   "cell_type": "code",
   "execution_count": null,
   "id": "bd605ee5",
   "metadata": {},
   "outputs": [],
   "source": [
    "def extract_with_regex(text):\n",
    "    info = {}\n",
    "    patterns = {\n",
    "        \"hotel_name\": r\"Khách sạn ([A-Z\\w\\s]+)\",\n",
    "        \"address\": r\"Địa chỉ: ([^\\n]+)\",\n",
    "        \"contract_number\": r\"Số hợp đồng: ([\\w\\d/-]+)\",\n",
    "        \"start_date\": r\"(\\d{1,2}/\\d{1,2}/\\d{4})\",\n",
    "        \"end_date\": r\"đến ngày (\\d{1,2}/\\d{1,2}/\\d{4})\",\n",
    "        \"total_value\": r\"Tổng giá trị(?: hợp đồng)?: ([\\d.,]+ VNĐ)\"\n",
    "    }\n",
    "    for key, pattern in patterns.items():\n",
    "        match = re.search(pattern, text, re.IGNORECASE)\n",
    "        if match:\n",
    "            info[key] = match.group(1).strip()\n",
    "    return info\n",
    "\n",
    "info_regex = extract_with_regex(merged_text)\n",
    "print(\"===> Kết quả từ Regex:\")\n",
    "print(json.dumps(info_regex, indent=2, ensure_ascii=False))\n",
    "pd.DataFrame([info_regex])\n"
   ]
  },
  {
   "cell_type": "markdown",
   "id": "c092fc18",
   "metadata": {},
   "source": [
    "🤖 Cách 2: Trích xuất bằng NER (VinBERT hoặc tương đương)"
   ]
  },
  {
   "cell_type": "code",
   "execution_count": null,
   "id": "97d4c748",
   "metadata": {},
   "outputs": [],
   "source": [
    "# Tải mô hình NER tiếng Việt\n",
    "tokenizer = AutoTokenizer.from_pretrained(\"NlpHUST/vibert4news-base-cased\")\n",
    "model = AutoModelForTokenClassification.from_pretrained(\"NlpHUST/vibert4news-base-cased\")\n",
    "ner_pipeline = pipeline(\"ner\", model=model, tokenizer=tokenizer, aggregation_strategy=\"simple\")\n"
   ]
  },
  {
   "cell_type": "code",
   "execution_count": null,
   "id": "f804ca68",
   "metadata": {},
   "outputs": [],
   "source": [
    "# Chạy NER\n",
    "ner_results = ner_pipeline(merged_text)\n",
    "entities = {}\n",
    "for r in ner_results:\n",
    "    label = r['entity_group']\n",
    "    text = r['word']\n",
    "    if label not in entities:\n",
    "        entities[label] = []\n",
    "    entities[label].append(text)\n",
    "\n",
    "info_ner = {k: ' '.join(v) for k, v in entities.items()}\n",
    "print(\"===> Kết quả từ NER model:\")\n",
    "print(json.dumps(info_ner, indent=2, ensure_ascii=False))\n",
    "pd.DataFrame([info_ner])\n"
   ]
  }
 ],
 "metadata": {
  "kernelspec": {
   "display_name": ".venv-blue",
   "language": "python",
   "name": "python3"
  },
  "language_info": {
   "codemirror_mode": {
    "name": "ipython",
    "version": 3
   },
   "file_extension": ".py",
   "mimetype": "text/x-python",
   "name": "python",
   "nbconvert_exporter": "python",
   "pygments_lexer": "ipython3",
   "version": "3.10.10"
  }
 },
 "nbformat": 4,
 "nbformat_minor": 5
}
