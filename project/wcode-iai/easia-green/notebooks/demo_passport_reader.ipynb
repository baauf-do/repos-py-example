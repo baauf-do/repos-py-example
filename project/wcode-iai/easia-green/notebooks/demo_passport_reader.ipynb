{
 "cells": [
  {
   "cell_type": "markdown",
   "metadata": {},
   "source": [
    "# 🧪 Demo: Passport Reader (EASIA GREEN)\n",
    "\n",
    "Đọc thông tin từ ảnh hộ chiếu và hiển thị dưới dạng bảng với `pandas`."
   ]
  },
  {
   "cell_type": "code",
   "execution_count": null,
   "metadata": {},
   "outputs": [],
   "source": [
    "import pandas as pd\n",
    "from app.core.reader import extract_passport_info"
   ]
  },
  {
   "cell_type": "code",
   "execution_count": null,
   "metadata": {},
   "outputs": [],
   "source": [
    "# Đường dẫn đến ảnh test\n",
    "image_path = \"store/input/sample-passport.jpg\"\n",
    "with open(image_path, \"rb\") as f:\n",
    "    file_bytes = f.read()\n",
    "\n",
    "# Gọi pipeline\n",
    "result = extract_passport_info(\"sample-passport.jpg\", file_bytes)\n",
    "\n",
    "# Hiển thị dưới dạng bảng\n",
    "df = pd.DataFrame([result])\n",
    "df"
   ]
  },
  {
   "cell_type": "code",
   "execution_count": null,
   "metadata": {},
   "outputs": [],
   "source": [
    "import imgaug.augmenters as iaa\n",
    "import cv2\n",
    "from matplotlib import pyplot as plt\n",
    "\n",
    "# Tăng cường dữ liệu bằng imgaug\n",
    "augmenter = iaa.Sequential([\n",
    "    iaa.Affine(rotate=(-15, 15)),\n",
    "    iaa.GaussianBlur(sigma=(0, 3.0)),\n",
    "    iaa.AdditiveGaussianNoise(scale=(10, 60)),\n",
    "    iaa.Multiply((0.8, 1.2)),  # Thay đổi độ sáng\n",
    "    iaa.Crop(percent=(0, 0.1)),  # Cắt ảnh\n",
    "])\n",
    "\n",
    "image = cv2.imread(\"sample.jpg\")\n",
    "augmented_image = augmenter(image=image)\n",
    "\n",
    "# Hiển thị ảnh gốc và ảnh tăng cường\n",
    "plt.subplot(1, 2, 1)\n",
    "plt.title(\"Original\")\n",
    "plt.imshow(cv2.cvtColor(image, cv2.COLOR_BGR2RGB))\n",
    "\n",
    "plt.subplot(1, 2, 2)\n",
    "plt.title(\"Augmented\")\n",
    "plt.imshow(cv2.cvtColor(augmented_image, cv2.COLOR_BGR2RGB))\n",
    "plt.show()"
   ]
  }
 ],
 "metadata": {
  "kernelspec": {
   "display_name": "Python (.venv-green)",
   "language": "python",
   "name": ".venv-green"
  },
  "language_info": {
   "name": "python",
   "version": "3.10"
  }
 },
 "nbformat": 4,
 "nbformat_minor": 2
}
