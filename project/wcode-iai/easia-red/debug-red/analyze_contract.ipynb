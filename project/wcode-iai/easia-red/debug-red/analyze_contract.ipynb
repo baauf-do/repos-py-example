{
 "cells": [
  {
   "cell_type": "code",
   "execution_count": null,
   "id": "6e1148b3",
   "metadata": {},
   "outputs": [],
   "source": [
    "from fastapi.testclient import TestClient\n",
    "from app.main import app\n",
    "\n",
    "client = TestClient(app)\n",
    "\n",
    "def test_upload_pdf():\n",
    "    with open(\"sample.pdf\", \"rb\") as f:\n",
    "        response = client.post(\"/extract-contract\", files={\"file\": (\"sample.pdf\", f, \"application/pdf\")})\n",
    "    assert response.status_code == 200\n",
    "    data = response.json()\n",
    "    assert \"sign_date\" in data"
   ]
  }
 ],
 "metadata": {
  "language_info": {
   "name": "python"
  }
 },
 "nbformat": 4,
 "nbformat_minor": 5
}
