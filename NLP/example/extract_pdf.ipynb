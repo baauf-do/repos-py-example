{
 "cells": [
  {
   "cell_type": "code",
   "execution_count": null,
   "id": "20354a396e789f53",
   "metadata": {},
   "outputs": [],
   "source": [
    "# Extract text from PDF"
   ]
  },
  {
   "cell_type": "code",
   "id": "7f6bbfaa",
   "metadata": {
    "ExecuteTime": {
     "end_time": "2025-05-20T10:29:45.284656Z",
     "start_time": "2025-05-20T10:29:44.225409Z"
    }
   },
   "source": [
    "## Cell 1: Cài đặt thư viện nếu chưa có\n",
    "%pip install pdfplumber pandas\n"
   ],
   "outputs": [
    {
     "name": "stdout",
     "output_type": "stream",
     "text": [
      "Requirement already satisfied: pdfplumber in c:\\repos\\vs-code\\baauf-do\\repos-py-example\\nlp\\.venv-example\\lib\\site-packages (0.11.6)\n",
      "Requirement already satisfied: pandas in c:\\repos\\vs-code\\baauf-do\\repos-py-example\\nlp\\.venv-example\\lib\\site-packages (2.2.3)\n",
      "Requirement already satisfied: pdfminer.six==20250327 in c:\\repos\\vs-code\\baauf-do\\repos-py-example\\nlp\\.venv-example\\lib\\site-packages (from pdfplumber) (20250327)\n",
      "Requirement already satisfied: Pillow>=9.1 in c:\\repos\\vs-code\\baauf-do\\repos-py-example\\nlp\\.venv-example\\lib\\site-packages (from pdfplumber) (11.2.1)\n",
      "Requirement already satisfied: pypdfium2>=4.18.0 in c:\\repos\\vs-code\\baauf-do\\repos-py-example\\nlp\\.venv-example\\lib\\site-packages (from pdfplumber) (4.30.1)\n",
      "Requirement already satisfied: charset-normalizer>=2.0.0 in c:\\repos\\vs-code\\baauf-do\\repos-py-example\\nlp\\.venv-example\\lib\\site-packages (from pdfminer.six==20250327->pdfplumber) (3.4.2)\n",
      "Requirement already satisfied: cryptography>=36.0.0 in c:\\repos\\vs-code\\baauf-do\\repos-py-example\\nlp\\.venv-example\\lib\\site-packages (from pdfminer.six==20250327->pdfplumber) (45.0.2)\n",
      "Requirement already satisfied: numpy>=1.22.4 in c:\\repos\\vs-code\\baauf-do\\repos-py-example\\nlp\\.venv-example\\lib\\site-packages (from pandas) (2.2.6)\n",
      "Requirement already satisfied: python-dateutil>=2.8.2 in c:\\repos\\vs-code\\baauf-do\\repos-py-example\\nlp\\.venv-example\\lib\\site-packages (from pandas) (2.9.0.post0)\n",
      "Requirement already satisfied: pytz>=2020.1 in c:\\repos\\vs-code\\baauf-do\\repos-py-example\\nlp\\.venv-example\\lib\\site-packages (from pandas) (2025.2)\n",
      "Requirement already satisfied: tzdata>=2022.7 in c:\\repos\\vs-code\\baauf-do\\repos-py-example\\nlp\\.venv-example\\lib\\site-packages (from pandas) (2025.2)\n",
      "Requirement already satisfied: cffi>=1.14 in c:\\repos\\vs-code\\baauf-do\\repos-py-example\\nlp\\.venv-example\\lib\\site-packages (from cryptography>=36.0.0->pdfminer.six==20250327->pdfplumber) (1.17.1)\n",
      "Requirement already satisfied: pycparser in c:\\repos\\vs-code\\baauf-do\\repos-py-example\\nlp\\.venv-example\\lib\\site-packages (from cffi>=1.14->cryptography>=36.0.0->pdfminer.six==20250327->pdfplumber) (2.22)\n",
      "Requirement already satisfied: six>=1.5 in c:\\repos\\vs-code\\baauf-do\\repos-py-example\\nlp\\.venv-example\\lib\\site-packages (from python-dateutil>=2.8.2->pandas) (1.17.0)\n",
      "Note: you may need to restart the kernel to use updated packages.\n"
     ]
    }
   ],
   "execution_count": 1
  },
  {
   "cell_type": "code",
   "id": "11ae7b21",
   "metadata": {
    "ExecuteTime": {
     "end_time": "2025-05-20T10:29:54.055139Z",
     "start_time": "2025-05-20T10:29:53.251629Z"
    }
   },
   "source": [
    "# Cell 2: Import thư viện cần thiết\n",
    "import pdfplumber\n",
    "import pandas as pd\n",
    "# import re\n"
   ],
   "outputs": [],
   "execution_count": 2
  },
  {
   "cell_type": "code",
   "id": "c34c12eb",
   "metadata": {
    "ExecuteTime": {
     "end_time": "2025-05-20T10:30:17.538145Z",
     "start_time": "2025-05-20T10:30:17.357122Z"
    }
   },
   "source": [
    "# Cell 3: Đọc file PDF và trích xuất toàn bộ text trang đầu tiên\n",
    "file_path = \"../store/2024 EASIA TRAVEL - HANOI LAROSA HOTEL CONTRACT ROOM RATE.pdf\"  # Thay bằng đường dẫn file của bạn\n",
    "\n",
    "with pdfplumber.open(file_path) as pdf:\n",
    "    first_page = pdf.pages[0]\n",
    "    text = first_page.extract_text()\n",
    "\n",
    "print(text[:10000])  # In 1000 ký tự đầu để xem nhanh\n"
   ],
   "outputs": [
    {
     "name": "stderr",
     "output_type": "stream",
     "text": [
      "CropBox missing from /Page, defaulting to MediaBox\n",
      "CropBox missing from /Page, defaulting to MediaBox\n",
      "CropBox missing from /Page, defaulting to MediaBox\n",
      "CropBox missing from /Page, defaulting to MediaBox\n",
      "CropBox missing from /Page, defaulting to MediaBox\n",
      "CropBox missing from /Page, defaulting to MediaBox\n",
      "CropBox missing from /Page, defaulting to MediaBox\n",
      "CropBox missing from /Page, defaulting to MediaBox\n",
      "CropBox missing from /Page, defaulting to MediaBox\n",
      "CropBox missing from /Page, defaulting to MediaBox\n"
     ]
    },
    {
     "name": "stdout",
     "output_type": "stream",
     "text": [
      "CỘNG HÒA XÃ HỘI CHỦ NGHĨA VIỆT NAM\n",
      "Độc lập – Tự do – Hạnh phúc\n",
      "************\n",
      "HỢP ĐỒNG CUNG CẤP DỊCH VỤ 2024\n",
      "HĐ số: HDDV28082023\n",
      "Căn cứ vào nhu cầu của CÔNG TY TNHH MIỀN Á ĐÔNG (được gọi tắt là Khách hàng) và khả năng đáp\n",
      "ứng của CÔNG TY TNHH ĐẦU TƯ THƯƠNG MẠI VÀ DỊCH VỤ ANH TIẾN (được gọi tắt là Khách\n",
      "sạn)\n",
      "Hợp đồng này được lập vào ngày … tháng … năm 2023, chúng tôi bao gồm:\n",
      "BÊN A: CÔNG TY TNHH ĐẦU TƯ THƯƠNG MẠI VÀ DỊCH VỤ ANH TIẾN\n",
      "Đại diện bởi: Bà Nguyễn Thanh Thủy\n",
      "Chức danh: Giám Đốc Điều Hành\n",
      "Đìa chỉ: 81Trần Thái Tông, P.Dịch Vọng, Q. Cầu Giấy, thành phố Hà Nội.\n",
      "Điện thoại: 0243 747 1155\n",
      "Mã số thuế: 0103760997\n",
      "Tên ngân hàng: Ngân hàng TMCP Ngoại thương Việt Nam\n",
      "Địa chỉ : Chi nhánh Sở giao dịch\n",
      "Số tài khoản:1032207737\n",
      "Bên B: CÔNG TY TNHH MIỀN Á ĐÔNG\n",
      "Đại diện bởi: Bà. Nguyễn Thúy Hoa\n",
      "Chức vụ: : Giám đốc\n",
      "Địa chỉ: : Khách sạn ATS - 33B Phạm Ngũ Lão, Phường Phan Chu Trinh, Quận Hoàn Kiếm, Thành phố\n",
      "Hà Nội, Việt Nam\n",
      "Điện thoại:\n",
      "Tài khoản:\n",
      "Tại:\n",
      "Mã số thuế:\n",
      "Hai bên đồng ý ký kết Hợp đồng thỏa thuận này với những điều khoản và điều kiện như sau:\n",
      "A. PHÒNG Ở:\n",
      "1. GIÁ PHÒNG (VND):\n",
      "MÙA CAO ĐIỂM\n",
      "MÙA THẤP ĐIỂM\n",
      "LOẠI PHÒNG Áp dụng từ ngày 01/01 – 30/04 và\n",
      "Áp dụng từ ngày 01/05 – 30/09\n",
      "từ ngày 01/10 – 31/12\n",
      "FIT/ KHÁCH LẺ FIT/ KHÁCH LẺ\n",
      "860.000 900.000\n",
      "Superior\n",
      "900.000 970.000\n",
      "Deluxe\n",
      "970.00 1.100.000\n",
      "Senior Deluxe\n",
      "1.200.000 1.300.000\n",
      "Suite\n",
      "Page 1 of 5\n"
     ]
    }
   ],
   "execution_count": 4
  }
 ],
 "metadata": {
  "language_info": {
   "name": "python"
  },
  "kernelspec": {
   "name": ".venv-example",
   "language": "python",
   "display_name": "Python (.venv-example)"
  }
 },
 "nbformat": 4,
 "nbformat_minor": 5
}
