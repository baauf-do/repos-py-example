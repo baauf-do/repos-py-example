{
 "cells": [
  {
   "cell_type": "code",
   "execution_count": null,
   "id": "2a118e9d",
   "metadata": {},
   "outputs": [],
   "source": [
    "# 📒 Jupyter Notebook phiên bản của train.py (YOLOv8 huấn luyện hộ chiếu)\n",
    "\n",
    "from ultralytics import YOLO\n",
    "from pathlib import Path\n",
    "from datetime import datetime\n",
    "import matplotlib.pyplot as plt"
   ]
  },
  {
   "cell_type": "code",
   "execution_count": null,
   "id": "f4c8bff5",
   "metadata": {},
   "outputs": [],
   "source": [
    "# ✅ Cấu hình\n",
    "model_path = 'yolov8n.pt'  # hoặc 'runs/.../best.pt' nếu fine-tune\n",
    "data_path = 'train/data.yaml'\n",
    "epochs = 50\n",
    "imgsz = 640\n",
    "batch = 16\n",
    "lr0 = 0.001\n",
    "run_name = f'passport_{datetime.now().strftime(\"%Y%m%d_%H%M%S\")}'\n",
    "save_path = Path('runs')\n",
    "run_path = save_path / run_name\n",
    "save_path.mkdir(exist_ok=True)"
   ]
  },
  {
   "cell_type": "code",
   "execution_count": null,
   "id": "6b7e0688",
   "metadata": {},
   "outputs": [],
   "source": [
    "# ✅ Load model\n",
    "model = YOLO(model_path)"
   ]
  },
  {
   "cell_type": "code",
   "execution_count": null,
   "id": "9eabea07",
   "metadata": {},
   "outputs": [],
   "source": [
    "# ✅ Train\n",
    "model.train(\n",
    "    data=data_path,\n",
    "    epochs=epochs,\n",
    "    imgsz=imgsz,\n",
    "    batch=batch,\n",
    "    project=str(save_path),\n",
    "    name=run_name,\n",
    "    lr0=lr0\n",
    ")"
   ]
  },
  {
   "cell_type": "code",
   "execution_count": null,
   "id": "bdccf7c6",
   "metadata": {},
   "outputs": [],
   "source": [
    "# ✅ Đánh giá mô hình\n",
    "metrics = model.val(data=data_path)"
   ]
  },
  {
   "cell_type": "code",
   "execution_count": null,
   "id": "9c773720",
   "metadata": {},
   "outputs": [],
   "source": [
    "# ✅ Hàm vẽ biểu đồ đơn giản\n",
    "keys = ['precision', 'recall', 'map50', 'map']\n",
    "values = [getattr(metrics, k) for k in keys]\n",
    "\n",
    "plt.figure(figsize=(8, 5))\n",
    "plt.bar(keys, values)\n",
    "plt.ylabel('Score')\n",
    "plt.title('📊 Evaluation Metrics')\n",
    "for i, v in enumerate(values):\n",
    "    plt.text(i, v + 0.01, f'{v:.2f}', ha='center')\n",
    "plt.tight_layout()\n",
    "plt.savefig(run_path / 'metrics_bar.png')\n",
    "plt.show()"
   ]
  },
  {
   "cell_type": "code",
   "execution_count": null,
   "id": "e8feeed8",
   "metadata": {},
   "outputs": [],
   "source": [
    "# ✅ Ghi log (tuỳ chọn)\n",
    "log_file = run_path / 'train_log.txt'\n",
    "with open(log_file, 'w') as f:\n",
    "    f.write(f'Model: {model_path}\\n')\n",
    "    f.write(f'Dataset: {data_path}\\n')\n",
    "    f.write(f'Epochs: {epochs}\\n')\n",
    "    f.write(f'Image size: {imgsz}\\n')\n",
    "    f.write(f'Batch size: {batch}\\n')\n",
    "    f.write(f'Learning rate: {lr0}\\n')\n",
    "    f.write('\\n[Evaluation metrics]\\n')\n",
    "    for k in keys:\n",
    "        f.write(f'{k}: {getattr(metrics, k):.4f}\\n')\n",
    "\n",
    "print(f\"✅ Kết quả huấn luyện tại: {run_path}\")"
   ]
  }
 ],
 "metadata": {
  "language_info": {
   "name": "python"
  }
 },
 "nbformat": 4,
 "nbformat_minor": 5
}
