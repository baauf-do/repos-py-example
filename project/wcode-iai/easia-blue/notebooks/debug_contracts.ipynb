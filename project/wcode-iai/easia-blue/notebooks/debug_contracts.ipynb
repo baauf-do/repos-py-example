{
 "cells": [
  {
   "cell_type": "code",
   "execution_count": null,
   "id": "a914bc02",
   "metadata": {},
   "outputs": [],
   "source": [
    "# File: notebooks/debug_contracts.ipynb\n",
    "\n",
    "# Cell 1: Import thư viện\n",
    "import json\n",
    "import pandas as pd\n",
    "import re\n",
    "import os\n",
    "\n"
   ]
  },
  {
   "cell_type": "code",
   "execution_count": null,
   "id": "d51563fc",
   "metadata": {},
   "outputs": [],
   "source": [
    "\n",
    "# Cell 2: Load raw text file\n",
    "raw_file_path = \"../store/temp/your_contract_raw.json\"  # Update tên file của bạn\n",
    "\n",
    "with open(raw_file_path, \"r\", encoding=\"utf-8\") as f:\n",
    "    raw_data = json.load(f)\n",
    "\n",
    "raw_text = raw_data.get(\"raw_text\", \"\")\n",
    "print(raw_text[:1000])  # In thử 1000 ký tự đầu tiên\n",
    "\n"
   ]
  },
  {
   "cell_type": "code",
   "execution_count": null,
   "id": "804bce1d",
   "metadata": {},
   "outputs": [],
   "source": [
    "# Cell 3: Tách thử Block Room Rates\n",
    "rates_block = re.search(r\"B\\u1ea2NG GI\\u00c1 PH\\u00d2NG(.*?)(Ch\\u00ednh s\\u00e1ch tr\\u1ebb em|Ch\\u00ednh s\\u00e1ch hu\\u1ef7 ph\\u00f2ng|\\Z)\",\n",
    "                        raw_text, re.DOTALL | re.IGNORECASE)\n",
    "\n",
    "if rates_block:\n",
    "    rates_text = rates_block.group(1)\n",
    "    print(rates_text[:1000])  # In thử nội dung bảng giá phòng\n",
    "else:\n",
    "    print(\"Không tìm thấy bảng giá phòng!\")\n",
    "\n"
   ]
  },
  {
   "cell_type": "code",
   "execution_count": null,
   "id": "a84b412d",
   "metadata": {},
   "outputs": [],
   "source": [
    "# Cell 4: Parse các dòng giá phòng thử\n",
    "room_rates = []\n",
    "\n",
    "for line in rates_text.split(\"\\n\"):\n",
    "    line = line.strip()\n",
    "    match = re.search(r\"(?P<room_type>.+?)\\s*-\\s*(?P<size>\\d+)\\s*m2\\s*-\\s*(?P<bed_type>.+?)\\s*-\\s*(?P<normal_price>[0-9\\.]+)[/\\\\](?P<high_price>[0-9\\.]+)\",\n",
    "                      line)\n",
    "    if match:\n",
    "        room_rates.append({\n",
    "            \"room_type\": match.group(\"room_type\").strip(),\n",
    "            \"size_sqm\": int(match.group(\"size\")),\n",
    "            \"bed_type\": match.group(\"bed_type\").strip(),\n",
    "            \"normal_season_rate\": int(match.group(\"normal_price\").replace(\".\", \"\")),\n",
    "            \"high_season_rate\": int(match.group(\"high_price\").replace(\".\", \"\"))\n",
    "        })\n",
    "\n"
   ]
  },
  {
   "cell_type": "code",
   "execution_count": null,
   "id": "2702a988",
   "metadata": {},
   "outputs": [],
   "source": [
    "# Cell 5: Xem kết quả bằng pandas\n",
    "if room_rates:\n",
    "    df_rates = pd.DataFrame(room_rates)\n",
    "    display(df_rates)\n",
    "else:\n",
    "    print(\"Không parse được dòng giá phòng nào!\")\n",
    "\n"
   ]
  },
  {
   "cell_type": "code",
   "execution_count": null,
   "id": "1129bbf8",
   "metadata": {},
   "outputs": [],
   "source": [
    "# Cell 6: Lưu tạm DataFrame thành CSV (tuỳ chọn)\n",
    "# df_rates.to_csv(\"../store/output/room_rates_debug.csv\", index=False)"
   ]
  }
 ],
 "metadata": {
  "language_info": {
   "name": "python"
  }
 },
 "nbformat": 4,
 "nbformat_minor": 5
}
